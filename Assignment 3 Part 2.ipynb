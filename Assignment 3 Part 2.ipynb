{
 "cells": [
  {
   "cell_type": "markdown",
   "metadata": {},
   "source": [
    "# Homework 3  - Part B\n",
    "\n",
    "\n",
    "###### Roll Number: 21100072"
   ]
  },
  {
   "cell_type": "markdown",
   "metadata": {},
   "source": [
    "We'll start Part B by taking out a minute to thank creators of Tensorflow and Keras for making our lives easier. The goal of this home work is to design a convolutional neural network to classify images from CIFAR-10. CIFAR-10 is a subset of CIFAR-100 with 10 and 100 being number of classes. They were collected by Alex Krizhevsky, Vinod Nair, and Geoffrey Hinton. We'll be building small CNNs using Keras to solve this classification task.\n",
    "<br>\n",
    "\n",
    "Please note:\n",
    "- You have to save each trained model weights and tensorboard logs in different folder. Use proper names for the model\n",
    "- You have to show trainings in this notebook file, so make sure that the printings and figures are available on this notebook file\n",
    "- This notebook is also your report file. So add your comments and analysis of each task. Your comments and analysis are as important as your code. This would be considered short report and it is compulsory part of the homework.\n",
    "- Your system memory may overflow. In that case, please reset memory for trained model(s) keeping printed logs and history of trained model. History of all trained models could be used to plot the trends.\n",
    "- For trends you shall also use tensorboard logs "
   ]
  },
  {
   "cell_type": "markdown",
   "metadata": {},
   "source": [
    "### Imports"
   ]
  },
  {
   "cell_type": "code",
   "execution_count": 1,
   "metadata": {},
   "outputs": [
    {
     "name": "stderr",
     "output_type": "stream",
     "text": [
      "Using TensorFlow backend.\n",
      "C:\\Users\\Zohair\\Anaconda3\\lib\\site-packages\\tensorflow\\python\\framework\\dtypes.py:526: FutureWarning: Passing (type, 1) or '1type' as a synonym of type is deprecated; in a future version of numpy, it will be understood as (type, (1,)) / '(1,)type'.\n",
      "  _np_qint8 = np.dtype([(\"qint8\", np.int8, 1)])\n",
      "C:\\Users\\Zohair\\Anaconda3\\lib\\site-packages\\tensorflow\\python\\framework\\dtypes.py:527: FutureWarning: Passing (type, 1) or '1type' as a synonym of type is deprecated; in a future version of numpy, it will be understood as (type, (1,)) / '(1,)type'.\n",
      "  _np_quint8 = np.dtype([(\"quint8\", np.uint8, 1)])\n",
      "C:\\Users\\Zohair\\Anaconda3\\lib\\site-packages\\tensorflow\\python\\framework\\dtypes.py:528: FutureWarning: Passing (type, 1) or '1type' as a synonym of type is deprecated; in a future version of numpy, it will be understood as (type, (1,)) / '(1,)type'.\n",
      "  _np_qint16 = np.dtype([(\"qint16\", np.int16, 1)])\n",
      "C:\\Users\\Zohair\\Anaconda3\\lib\\site-packages\\tensorflow\\python\\framework\\dtypes.py:529: FutureWarning: Passing (type, 1) or '1type' as a synonym of type is deprecated; in a future version of numpy, it will be understood as (type, (1,)) / '(1,)type'.\n",
      "  _np_quint16 = np.dtype([(\"quint16\", np.uint16, 1)])\n",
      "C:\\Users\\Zohair\\Anaconda3\\lib\\site-packages\\tensorflow\\python\\framework\\dtypes.py:530: FutureWarning: Passing (type, 1) or '1type' as a synonym of type is deprecated; in a future version of numpy, it will be understood as (type, (1,)) / '(1,)type'.\n",
      "  _np_qint32 = np.dtype([(\"qint32\", np.int32, 1)])\n",
      "C:\\Users\\Zohair\\Anaconda3\\lib\\site-packages\\tensorflow\\python\\framework\\dtypes.py:535: FutureWarning: Passing (type, 1) or '1type' as a synonym of type is deprecated; in a future version of numpy, it will be understood as (type, (1,)) / '(1,)type'.\n",
      "  np_resource = np.dtype([(\"resource\", np.ubyte, 1)])\n"
     ]
    }
   ],
   "source": [
    "import keras\n",
    "from keras.models import Model\n",
    "from keras.layers import Dense, Input, Conv2D, MaxPooling2D, Dropout, Flatten, BatchNormalization\n",
    "from keras.optimizers import Adam\n",
    "from keras.callbacks import ModelCheckpoint, EarlyStopping, CSVLogger, ReduceLROnPlateau, TensorBoard\n",
    "from keras.utils import plot_model, to_categorical\n",
    "from keras.preprocessing.image import ImageDataGenerator\n",
    "import keras.backend as K\n",
    "\n",
    "from sklearn.model_selection import train_test_split\n",
    "from IPython.display import display\n",
    "import numpy as np\n",
    "import pandas as pd\n",
    "import cv2\n",
    "%matplotlib inline\n",
    "import matplotlib.pyplot as plt\n",
    "plt.style.use('seaborn')\n",
    "\n",
    "import os\n",
    "import glob\n",
    "your_id = 21100072\n",
    "np.random.seed(your_id)"
   ]
  },
  {
   "cell_type": "markdown",
   "metadata": {
    "heading_collapsed": true
   },
   "source": [
    "###### Hyperparameters"
   ]
  },
  {
   "cell_type": "code",
   "execution_count": 2,
   "metadata": {
    "hidden": true
   },
   "outputs": [],
   "source": [
    "batch_size = 64\n",
    "num_classes = 10\n",
    "class_labels = np.arange(0, num_classes, 1)\n",
    "input_shape = (32,32,3)\n",
    "images_dir = './images/cifar/'\n",
    "epochs = 25 \n",
    "all_histories = []\n",
    "model_names=[]"
   ]
  },
  {
   "cell_type": "markdown",
   "metadata": {},
   "source": [
    "### Task 1.1   Load dataset information\n",
    "Download the [CIFAR-10 Dataset](https://drive.google.com/drive/folders/1FPsts3C2tJMVQ1xcCi2XZdb2z_J2OjSr?usp=sharing) and setup your working directory. Be sure to put the dataset in the <code>images_dir</code> directory. We won't be loading images and will only store the file paths in memory. These file paths will be used to load and return batch of images in our generator. Feel free to explore the dataset in this section."
   ]
  },
  {
   "cell_type": "code",
   "execution_count": 4,
   "metadata": {},
   "outputs": [
    {
     "name": "stdout",
     "output_type": "stream",
     "text": [
      "Total training sample:  50000\n",
      "Training sample after split: 40000\n",
      "Validation set:  10000\n",
      "[[[ 13  17  18]\n",
      "  [ 15  20  20]\n",
      "  [ 17  22  21]\n",
      "  ...\n",
      "  [ 31  36  43]\n",
      "  [ 41  55  75]\n",
      "  [ 53  73 103]]\n",
      "\n",
      " [[ 64  72  77]\n",
      "  [ 44  48  47]\n",
      "  [ 14  19  18]\n",
      "  ...\n",
      "  [ 40  48  63]\n",
      "  [ 52  69  98]\n",
      "  [ 47  63  91]]\n",
      "\n",
      " [[ 80  87  94]\n",
      "  [ 91  96 103]\n",
      "  [ 26  29  31]\n",
      "  ...\n",
      "  [ 50  69  91]\n",
      "  [ 49  68  97]\n",
      "  [ 46  66  90]]\n",
      "\n",
      " ...\n",
      "\n",
      " [[ 58  74 101]\n",
      "  [ 60  77 102]\n",
      "  [ 55  76 101]\n",
      "  ...\n",
      "  [ 47  68  92]\n",
      "  [ 26  40  55]\n",
      "  [ 21  24  32]]\n",
      "\n",
      " [[ 57  77 102]\n",
      "  [ 57  77 102]\n",
      "  [ 58  78 103]\n",
      "  ...\n",
      "  [ 34  47  69]\n",
      "  [ 24  27  35]\n",
      "  [ 24  26  34]]\n",
      "\n",
      " [[ 55  75 101]\n",
      "  [ 57  77 102]\n",
      "  [ 57  80 105]\n",
      "  ...\n",
      "  [ 27  32  44]\n",
      "  [ 26  28  35]\n",
      "  [ 27  29  37]]]\n",
      "(32, 32, 3)\n"
     ]
    }
   ],
   "source": [
    "train_dir = images_dir + 'train/'\n",
    "test_dir = images_dir + 'test/'\n",
    "label_dir = images_dir + 'labels.txt'\n",
    "\n",
    "# Use either os.listdir or glob to generate an array of file paths for training and testing data (I would recommend using glob)\n",
    "train_files = glob.glob(train_dir+\"*.png\")\n",
    "test_files = glob.glob(test_dir+\"*.png\")\n",
    "\n",
    "# Use labels.txt to store labels in an array/dict (NOTE: The line number corresponds to the actual label)\n",
    "classes = []\n",
    "with open(label_dir, \"r\") as f:\n",
    "    classes = f.read().splitlines()\n",
    "print(\"Total training sample: \", len(train_files))\n",
    "# Use sci-kit learn's train_test_split method to generate a validation dataset from the training dataset\n",
    "train_files, val_files = train_test_split(train_files, test_size=0.2)\n",
    "print(\"Training sample after split:\",len(train_files))\n",
    "print(\"Validation set: \",len(val_files))\n",
    "\n",
    "image = cv2.imread (test_files[1])\n",
    "# print(image.shape)\n",
    "print(image)\n",
    "print(image.shape)\n",
    "# plt.imshow(image)"
   ]
  },
  {
   "cell_type": "markdown",
   "metadata": {},
   "source": [
    "Fixing file directories by classifying images in the training folder into subdirectories"
   ]
  },
  {
   "cell_type": "markdown",
   "metadata": {},
   "source": [
    "### Task 1.2 Preprocessing\n",
    "Preprocessing of data such as normalization, mean shift, make the learning task simple for network and could accelerate the training process. "
   ]
  },
  {
   "cell_type": "markdown",
   "metadata": {},
   "source": [
    "###### Task 1.2.1 \n",
    "In images, pixel values range from 0 to 255. To shift the values between (0,1) range, divide input image by 255."
   ]
  },
  {
   "cell_type": "code",
   "execution_count": 15,
   "metadata": {},
   "outputs": [],
   "source": [
    "def preprocessing_norm(images):\n",
    "    images=np.array(images)\n",
    "    images=images.astype('float64')\n",
    "    for i in range(len(images)):\n",
    "        images[i]=np.divide(images[i], 255)\n",
    "    return images.tolist()\n",
    "# print(image[0])\n",
    "# image=preprocessing_norm([image])\n",
    "# print(image)"
   ]
  },
  {
   "cell_type": "markdown",
   "metadata": {},
   "source": [
    "###### Task 1.2.2\n",
    "Compute the channel-wise mean and standard deviation (std). Subtract channel-wise mean and divide by channel-wise std. This will shift the mean to zero and variation to 1 for each channel. "
   ]
  },
  {
   "cell_type": "code",
   "execution_count": 16,
   "metadata": {},
   "outputs": [],
   "source": [
    "def preprocessing_meanShift(images):\n",
    "    images=np.array(images) #if it is a list\n",
    "    images=images.astype('float64')\n",
    "    for i in range(images.shape[0]):\n",
    "        for c in range(images.shape[3]):\n",
    "            mean=np.mean(images[i,:,:,c])\n",
    "            std=np.std(images[i,:,:,c])\n",
    "            images[i,:,:c]=np.divide(images[i,:,:c]-mean, std)\n",
    "    return images.tolist()\n",
    "            \n",
    "# print(image[0])\n",
    "# image=preprocessing_meanShift([image])\n",
    "# print(image)"
   ]
  },
  {
   "cell_type": "markdown",
   "metadata": {},
   "source": [
    "### Task 1.3  Batch Generator\n",
    "Previously, when training our models, we were loading the complete data in memory to fit our model. However, in practice we're working with very large datasets which cannot be loaded all at once in memory. As a solution, we use \"Data Generators\" which are essentially python generators that load batches of data from disk into memory and pass into our models. In order to achieve this, we only store filepaths that point to training/test samples in our dataset in memory. A data generator yields a tuple of (Xs,Ys) whenever the generator is used via the next() function. Implementation of a data generator is open ended, you can add whatever arguments you find necessary in addition to the ones provided."
   ]
  },
  {
   "cell_type": "code",
   "execution_count": 17,
   "metadata": {},
   "outputs": [],
   "source": [
    "def one_hot_encode(label):\n",
    "    ind=classes.index(label)\n",
    "    res=[0]*len(classes)\n",
    "    res[ind]=1\n",
    "    return res\n",
    "def data_generator(paths , batch_size = 32, preprocessing = None):\n",
    "    res=[] #images\n",
    "    labels=[] #respective labels\n",
    "    count=1\n",
    "    while True:\n",
    "        for image in paths:\n",
    "#             print(preprocessing)\n",
    "            y=os.path.basename(image)\n",
    "            x=y.split(\"_\")\n",
    "            x=x[1].split(\".\")[0]\n",
    "            #one hot encode the \n",
    "#             print(x)\n",
    "#             print(classes.index(x))\n",
    "#             labels.append(classes.index(x))\n",
    "            labels.append(one_hot_encode(x))\n",
    "            im=cv2.imread(image)\n",
    "    #         plt.imshow(im)\n",
    "    #         print(x)\n",
    "            res.append(im)\n",
    "            if count%batch_size==0:\n",
    "                if preprocessing!=None:\n",
    "#                     print(preprocessing)\n",
    "                    if preprocessing==\"preprocessing_norm\":\n",
    "                        res=preprocessing_norm(res)\n",
    "                    elif preprocessing==\"preprocessing_meanShift\":\n",
    "                        res=preprocessing_meanShift(res)\n",
    "                yield np.asarray(res),np.asarray(labels)\n",
    "                res.clear()\n",
    "                labels.clear()\n",
    "            count+=1\n",
    "\n",
    "# images=data_generator(train_files)\n",
    "# x=next(images)\n",
    "# y=next(images)\n",
    "# z=next(images)\n",
    "# print(z[0])\n",
    "# print(z[1])\n",
    "# plt.imshow(images[0][0])\n",
    "    #preprocess after getting images"
   ]
  },
  {
   "cell_type": "markdown",
   "metadata": {},
   "source": [
    "### Task 1.4 Design CNN model\n",
    "**IMPORTANT**: For each model you create, you need to conduct analysis in a markdown cell below the code cell containing the model's training. Your analysis should include plots, comments on its accuracy/loss, etc. Try to predict images and see what images your model is correctly classifying, see if your model is overfitting or not. For each layer you add, specify its function and then comment on its results."
   ]
  },
  {
   "cell_type": "code",
   "execution_count": 18,
   "metadata": {},
   "outputs": [],
   "source": [
    "# Design a CNN to predict classes for the images in the dataset. Try to keep your network shallow since you'll be training your model on your PC as well.\n",
    "input_img = Input(shape=(32,32,3), name='input_img')\n",
    "layer= Conv2D(2, kernel_size=(3,3), activation='relu')(input_img)\n",
    "# layer = MaxPooling2D(pool_size=(2, 2))(layer)\n",
    "# layer = Dropout(rate=0.25)(layer)\n",
    "layer = Conv2D(16, (3, 3), activation='tanh')(layer)\n",
    "# layer = MaxPooling2D(pool_size=(2, 2))(layer)\n",
    "# layer = Dropout(rate=0.3)(layer)\n",
    "# layer = Conv2D(16, (3, 3), activation='relu')(layer)\n",
    "# layer = MaxPooling2D(pool_size=(2, 2))(layer)\n",
    "# layer = Dropout(rate=0.2)(layer)\n",
    "\n",
    "layer = Flatten()(layer)\n",
    "layer= Dense(20, activation='tanh')(layer)\n",
    "# layer= Dense(64, activation='tanh')(layer)\n",
    "# layer = Dense(128, activation='relu')(layer)\n",
    "# layer = Dropout(rate=0.5)(layer)\n",
    "output_class = Dense(num_classes, activation='softmax')(layer)\n",
    "model_initial = Model(inputs=input_img, outputs=output_class)"
   ]
  },
  {
   "cell_type": "markdown",
   "metadata": {},
   "source": [
    "#### Compile model and plot"
   ]
  },
  {
   "cell_type": "code",
   "execution_count": 19,
   "metadata": {},
   "outputs": [],
   "source": [
    "model_name = 'base_model'\n",
    "model_names.append(model_name)\n",
    "if not os.path.exists('./'+model_name):\n",
    "    os.mkdir(model_name)\n",
    "   "
   ]
  },
  {
   "cell_type": "code",
   "execution_count": 20,
   "metadata": {},
   "outputs": [],
   "source": [
    " # You may tweak the learning rate\n",
    "adam = Adam(lr=0.001)\n",
    "\n",
    "# Use the appropriate loss function and compile the model\n",
    "model_initial.compile(loss='categorical_crossentropy', \n",
    "              optimizer=adam, \n",
    "              metrics=['accuracy'])"
   ]
  },
  {
   "cell_type": "code",
   "execution_count": 21,
   "metadata": {},
   "outputs": [
    {
     "data": {
      "image/png": "[encoded data removed]",
      "text/plain": [
       "<IPython.core.display.Image object>"
      ]
     },
     "execution_count": 21,
     "metadata": {},
     "output_type": "execute_result"
    }
   ],
   "source": [
    "plot_model(model_initial, model_name+'/'+model_name+'.png')"
   ]
  },
  {
   "cell_type": "code",
   "execution_count": 22,
   "metadata": {},
   "outputs": [
    {
     "name": "stdout",
     "output_type": "stream",
     "text": [
      "Model: \"model_2\"\n",
      "_________________________________________________________________\n",
      "Layer (type)                 Output Shape              Param #   \n",
      "=================================================================\n",
      "input_img (InputLayer)       (None, 32, 32, 3)         0         \n",
      "_________________________________________________________________\n",
      "conv2d_3 (Conv2D)            (None, 30, 30, 2)         56        \n",
      "_________________________________________________________________\n",
      "conv2d_4 (Conv2D)            (None, 28, 28, 16)        304       \n",
      "_________________________________________________________________\n",
      "flatten_2 (Flatten)          (None, 12544)             0         \n",
      "_________________________________________________________________\n",
      "dense_3 (Dense)              (None, 20)                250900    \n",
      "_________________________________________________________________\n",
      "dense_4 (Dense)              (None, 10)                210       \n",
      "=================================================================\n",
      "Total params: 251,470\n",
      "Trainable params: 251,470\n",
      "Non-trainable params: 0\n",
      "_________________________________________________________________\n"
     ]
    }
   ],
   "source": [
    "model_initial.summary()"
   ]
  },
  {
   "cell_type": "markdown",
   "metadata": {},
   "source": [
    "#### Task 1.5 Training model\n",
    "In order to train the model, instead of \"model.fit\" function, we will use the \"model.fit_generator\" function for training. For details check out [keras documentation](https://keras.io/models/sequential/)"
   ]
  },
  {
   "cell_type": "code",
   "execution_count": 23,
   "metadata": {},
   "outputs": [],
   "source": [
    "class LRTensorBoard(TensorBoard):\n",
    "    def __init__(self, *args, **kwargs):\n",
    "        super(LRTensorBoard, self).__init__(*args, **kwargs)\n",
    "\n",
    "    def on_epoch_end(self, epoch, logs=None):\n",
    "        logs.update({'lr': K.eval(self.model.optimizer.lr)})\n",
    "        super(LRTensorBoard, self).on_epoch_end(epoch, logs)"
   ]
  },
  {
   "cell_type": "code",
   "execution_count": 24,
   "metadata": {},
   "outputs": [],
   "source": [
    "# Add the following callbacks to your Model: ModelCheckpoin, CSVLogger, ReduceLROnPlateau. The callback for Tensorboard has already been provided to you.\n",
    "checkpoint = ModelCheckpoint(model_name+'/'+model_name+'-{epoch:02d}-{val_loss:.2f}.h5', \n",
    "                             monitor='val_loss', verbose=1, save_best_only=True, mode='auto')\n",
    "cvslogger = CSVLogger(model_name+'/logs.csv', separator=',', append=True)\n",
    "reducelr = ReduceLROnPlateau(monitor='val_loss', factor=0.2, patience=3, min_lr=0.000001, min_delta=0.03)\n",
    "tensorboard = LRTensorBoard(log_dir='./'+model_name, histogram_freq=0, write_graph=True, write_grads=1, \n",
    "                            batch_size=batch_size, write_images=True)\n",
    "\n",
    "callbacks = [checkpoint, tensorboard, cvslogger, reducelr]"
   ]
  },
  {
   "cell_type": "markdown",
   "metadata": {},
   "source": [
    "#### Task 1.5.1 \n",
    "Train model without using any pre-processing scheme"
   ]
  },
  {
   "cell_type": "code",
   "execution_count": 25,
   "metadata": {},
   "outputs": [],
   "source": [
    "# Create three generators: For training your model, for validation, for testing.\n",
    "train_gen=data_generator(train_files)\n",
    "test_gen=data_generator(test_files)\n",
    "val_gen=data_generator(val_files)"
   ]
  },
  {
   "cell_type": "code",
   "execution_count": 26,
   "metadata": {
    "scrolled": true
   },
   "outputs": [
    {
     "name": "stdout",
     "output_type": "stream",
     "text": [
      "WARNING:tensorflow:From C:\\Users\\Zohair\\Anaconda3\\lib\\site-packages\\tensorflow\\python\\ops\\math_ops.py:3066: to_int32 (from tensorflow.python.ops.math_ops) is deprecated and will be removed in a future version.\n",
      "Instructions for updating:\n",
      "Use tf.cast instead.\n",
      "Epoch 1/25\n",
      "625/625 [==============================] - 81s 130ms/step - loss: 2.3931 - accuracy: 0.0958 - val_loss: 2.3096 - val_accuracy: 0.0974\n",
      "\n",
      "Epoch 00001: val_loss improved from inf to 2.30960, saving model to base_model/base_model-01-2.31.h5\n",
      "Epoch 2/25\n",
      "625/625 [==============================] - 81s 129ms/step - loss: 2.3050 - accuracy: 0.0999 - val_loss: 2.3136 - val_accuracy: 0.0998\n",
      "\n",
      "Epoch 00002: val_loss did not improve from 2.30960\n",
      "Epoch 3/25\n",
      "625/625 [==============================] - 33s 52ms/step - loss: 2.3055 - accuracy: 0.0983 - val_loss: 2.3387 - val_accuracy: 0.0970\n",
      "\n",
      "Epoch 00003: val_loss did not improve from 2.30960\n",
      "Epoch 4/25\n",
      "625/625 [==============================] - 32s 51ms/step - loss: 2.3061 - accuracy: 0.1011 - val_loss: 2.2917 - val_accuracy: 0.0992\n",
      "\n",
      "Epoch 00004: val_loss improved from 2.30960 to 2.29166, saving model to base_model/base_model-04-2.29.h5\n",
      "Epoch 5/25\n",
      "625/625 [==============================] - 32s 50ms/step - loss: 2.3035 - accuracy: 0.0986 - val_loss: 2.3148 - val_accuracy: 0.1000\n",
      "\n",
      "Epoch 00005: val_loss did not improve from 2.29166\n",
      "Epoch 6/25\n",
      "625/625 [==============================] - 30s 49ms/step - loss: 2.3029 - accuracy: 0.0972 - val_loss: 2.3006 - val_accuracy: 0.0984\n",
      "\n",
      "Epoch 00006: val_loss did not improve from 2.29166\n",
      "Epoch 7/25\n",
      "625/625 [==============================] - 32s 51ms/step - loss: 2.3033 - accuracy: 0.0979 - val_loss: 2.2871 - val_accuracy: 0.1002\n",
      "\n",
      "Epoch 00007: val_loss improved from 2.29166 to 2.28713, saving model to base_model/base_model-07-2.29.h5\n",
      "Epoch 8/25\n",
      "625/625 [==============================] - 32s 52ms/step - loss: 2.3029 - accuracy: 0.0971 - val_loss: 2.3015 - val_accuracy: 0.0986\n",
      "\n",
      "Epoch 00008: val_loss did not improve from 2.28713\n",
      "Epoch 9/25\n",
      "625/625 [==============================] - 34s 55ms/step - loss: 2.3026 - accuracy: 0.0968 - val_loss: 2.2961 - val_accuracy: 0.1004\n",
      "\n",
      "Epoch 00009: val_loss did not improve from 2.28713\n",
      "Epoch 10/25\n",
      "625/625 [==============================] - 35s 55ms/step - loss: 2.3023 - accuracy: 0.0990 - val_loss: 2.3049 - val_accuracy: 0.0988\n",
      "\n",
      "Epoch 00010: val_loss did not improve from 2.28713\n",
      "Epoch 11/25\n",
      "625/625 [==============================] - 32s 51ms/step - loss: 2.3024 - accuracy: 0.0986 - val_loss: 2.3006 - val_accuracy: 0.1018\n",
      "\n",
      "Epoch 00011: val_loss did not improve from 2.28713\n",
      "Epoch 12/25\n",
      "625/625 [==============================] - 35s 56ms/step - loss: 2.3020 - accuracy: 0.1037 - val_loss: 2.3040 - val_accuracy: 0.0988\n",
      "\n",
      "Epoch 00012: val_loss did not improve from 2.28713\n",
      "Epoch 13/25\n",
      "625/625 [==============================] - 32s 52ms/step - loss: 2.3024 - accuracy: 0.0985 - val_loss: 2.3017 - val_accuracy: 0.1016\n",
      "\n",
      "Epoch 00013: val_loss did not improve from 2.28713\n",
      "Epoch 14/25\n",
      "625/625 [==============================] - 33s 53ms/step - loss: 2.3019 - accuracy: 0.1037 - val_loss: 2.3019 - val_accuracy: 0.0992\n",
      "\n",
      "Epoch 00014: val_loss did not improve from 2.28713\n",
      "Epoch 15/25\n",
      "625/625 [==============================] - 33s 52ms/step - loss: 2.3023 - accuracy: 0.0985 - val_loss: 2.3032 - val_accuracy: 0.1012\n",
      "\n",
      "Epoch 00015: val_loss did not improve from 2.28713\n",
      "Epoch 16/25\n",
      "625/625 [==============================] - 33s 52ms/step - loss: 2.3019 - accuracy: 0.1037 - val_loss: 2.3005 - val_accuracy: 0.0994\n",
      "\n",
      "Epoch 00016: val_loss did not improve from 2.28713\n",
      "Epoch 17/25\n",
      "625/625 [==============================] - 33s 52ms/step - loss: 2.3023 - accuracy: 0.0985 - val_loss: 2.3023 - val_accuracy: 0.1010\n",
      "\n",
      "Epoch 00017: val_loss did not improve from 2.28713\n",
      "Epoch 18/25\n",
      "625/625 [==============================] - 34s 54ms/step - loss: 2.3019 - accuracy: 0.1037 - val_loss: 2.3024 - val_accuracy: 0.0992\n",
      "\n",
      "Epoch 00018: val_loss did not improve from 2.28713\n",
      "Epoch 19/25\n",
      "625/625 [==============================] - 33s 52ms/step - loss: 2.3023 - accuracy: 0.0985 - val_loss: 2.3031 - val_accuracy: 0.1016\n",
      "\n",
      "Epoch 00019: val_loss did not improve from 2.28713\n",
      "Epoch 20/25\n",
      "625/625 [==============================] - 32s 52ms/step - loss: 2.3019 - accuracy: 0.1037 - val_loss: 2.3032 - val_accuracy: 0.0988\n",
      "\n",
      "Epoch 00020: val_loss did not improve from 2.28713\n",
      "Epoch 21/25\n",
      "625/625 [==============================] - 33s 52ms/step - loss: 2.3023 - accuracy: 0.0985 - val_loss: 2.3024 - val_accuracy: 0.1016\n",
      "\n",
      "Epoch 00021: val_loss did not improve from 2.28713\n",
      "Epoch 22/25\n",
      "625/625 [==============================] - 33s 52ms/step - loss: 2.3019 - accuracy: 0.1037 - val_loss: 2.2810 - val_accuracy: 0.0988\n",
      "\n",
      "Epoch 00022: val_loss improved from 2.28713 to 2.28099, saving model to base_model/base_model-22-2.28.h5\n",
      "Epoch 23/25\n",
      "625/625 [==============================] - 34s 54ms/step - loss: 2.3023 - accuracy: 0.0985 - val_loss: 2.3013 - val_accuracy: 0.1018\n",
      "\n",
      "Epoch 00023: val_loss did not improve from 2.28099\n",
      "Epoch 24/25\n",
      "625/625 [==============================] - 32s 51ms/step - loss: 2.3019 - accuracy: 0.1037 - val_loss: 2.2804 - val_accuracy: 0.0990\n",
      "\n",
      "Epoch 00024: val_loss improved from 2.28099 to 2.28037, saving model to base_model/base_model-24-2.28.h5\n",
      "Epoch 25/25\n",
      "625/625 [==============================] - 34s 54ms/step - loss: 2.3023 - accuracy: 0.0985 - val_loss: 2.3033 - val_accuracy: 0.1014\n",
      "\n",
      "Epoch 00025: val_loss did not improve from 2.28037\n"
     ]
    }
   ],
   "source": [
    "# Start training your model here\n",
    "# print(len(val_files))\n",
    "# print(batch_size)\n",
    "# print(len(val_files)//batch_size)\n",
    "# print(len(train_files)//batch_size)\n",
    "hist_initial = model_initial.fit_generator(train_gen, epochs=epochs,\n",
    "                           steps_per_epoch=len(train_files)//batch_size,\n",
    "                           validation_data=test_gen,\n",
    "                           callbacks=callbacks,\n",
    "                           verbose=1,\n",
    "                           validation_steps=len(test_files)//batch_size)\n",
    "\n",
    "all_histories.append(hist_initial)"
   ]
  },
  {
   "cell_type": "code",
   "execution_count": 27,
   "metadata": {},
   "outputs": [],
   "source": [
    "# print(hist_initial.history)"
   ]
  },
  {
   "cell_type": "markdown",
   "metadata": {},
   "source": [
    "#### Task 1.5.2 \n",
    "Train model by using data preprocessing i.e normalization or mean shift. "
   ]
  },
  {
   "cell_type": "code",
   "execution_count": 28,
   "metadata": {},
   "outputs": [],
   "source": [
    "input_img = Input(shape=(input_shape), name='input_img')"
   ]
  },
  {
   "cell_type": "code",
   "execution_count": 29,
   "metadata": {},
   "outputs": [],
   "source": [
    "model_name = 'model_preprocessed_input'\n",
    "model_names.append(model_name)\n",
    "if not os.path.exists('./'+model_name):\n",
    "    os.mkdir(model_name)\n",
    "    "
   ]
  },
  {
   "cell_type": "code",
   "execution_count": 30,
   "metadata": {},
   "outputs": [],
   "source": [
    "# Design a CNN to predict classes for the images in the dataset. Try to keep your network shallow since you'll be training your model on your PC as well.\n",
    "input_img = Input(shape=(32,32,3), name='input_img')\n",
    "layer= Conv2D(2, kernel_size=(3,3), activation='relu')(input_img)\n",
    "# layer = MaxPooling2D(pool_size=(2, 2))(layer)\n",
    "# layer = Dropout(rate=0.25)(layer)\n",
    "layer = Conv2D(16, (3, 3), activation='tanh')(layer)\n",
    "# layer = MaxPooling2D(pool_size=(2, 2))(layer)\n",
    "# layer = Dropout(rate=0.3)(layer)\n",
    "# layer = Conv2D(16, (3, 3), activation='relu')(layer)\n",
    "# layer = MaxPooling2D(pool_size=(2, 2))(layer)\n",
    "# layer = Dropout(rate=0.2)(layer)\n",
    "\n",
    "layer = Flatten()(layer)\n",
    "layer= Dense(20, activation='tanh')(layer)\n",
    "# layer= Dense(64, activation='tanh')(layer)\n",
    "# layer = Dense(128, activation='relu')(layer)\n",
    "# layer = Dropout(rate=0.5)(layer)\n",
    "output_class = Dense(num_classes, activation='softmax')(layer)\n",
    "model_preprocessed = Model(inputs=input_img, outputs=output_class)"
   ]
  },
  {
   "cell_type": "code",
   "execution_count": 31,
   "metadata": {},
   "outputs": [],
   "source": [
    "# You may tweak this Learning Rate\n",
    "adam = Adam(lr=0.001)\n",
    "\n",
    "# Compile your model using an appropriate loss\n",
    "model_preprocessed.compile(loss=\"categorical_crossentropy\", \n",
    "              optimizer=adam, \n",
    "              metrics=['accuracy'])"
   ]
  },
  {
   "cell_type": "code",
   "execution_count": 32,
   "metadata": {},
   "outputs": [
    {
     "data": {
      "image/png": "[encoded data removed]",
      "text/plain": [
       "<IPython.core.display.Image object>"
      ]
     },
     "execution_count": 32,
     "metadata": {},
     "output_type": "execute_result"
    }
   ],
   "source": [
    "plot_model(model_preprocessed, model_name+'/'+model_name+'.png')"
   ]
  },
  {
   "cell_type": "code",
   "execution_count": 33,
   "metadata": {},
   "outputs": [
    {
     "name": "stdout",
     "output_type": "stream",
     "text": [
      "Model: \"model_3\"\n",
      "_________________________________________________________________\n",
      "Layer (type)                 Output Shape              Param #   \n",
      "=================================================================\n",
      "input_img (InputLayer)       (None, 32, 32, 3)         0         \n",
      "_________________________________________________________________\n",
      "conv2d_5 (Conv2D)            (None, 30, 30, 2)         56        \n",
      "_________________________________________________________________\n",
      "conv2d_6 (Conv2D)            (None, 28, 28, 16)        304       \n",
      "_________________________________________________________________\n",
      "flatten_3 (Flatten)          (None, 12544)             0         \n",
      "_________________________________________________________________\n",
      "dense_5 (Dense)              (None, 20)                250900    \n",
      "_________________________________________________________________\n",
      "dense_6 (Dense)              (None, 10)                210       \n",
      "=================================================================\n",
      "Total params: 251,470\n",
      "Trainable params: 251,470\n",
      "Non-trainable params: 0\n",
      "_________________________________________________________________\n"
     ]
    }
   ],
   "source": [
    "model_preprocessed.summary()"
   ]
  },
  {
   "cell_type": "code",
   "execution_count": 34,
   "metadata": {},
   "outputs": [],
   "source": [
    "checkpoint = ModelCheckpoint(model_name+'/'+model_name+'-{epoch:02d}-{val_loss:.2f}.h5', \n",
    "                             monitor='val_loss', verbose=1, save_best_only=True, mode='auto')\n",
    "cvslogger = CSVLogger(model_name+'/logs.csv', separator=',', append=True)\n",
    "tensorboard = LRTensorBoard(log_dir='./'+model_name, histogram_freq=0, write_graph=True, write_grads=1, \n",
    "                            batch_size=batch_size, write_images=True)\n",
    "\n",
    "callbacks = [checkpoint, tensorboard, cvslogger]"
   ]
  },
  {
   "cell_type": "code",
   "execution_count": 35,
   "metadata": {},
   "outputs": [],
   "source": [
    "# Create three generators again\n",
    "# train_gen=data_generator(train_files, batch_size,\"preprocessing_meanShift\")\n",
    "# test_gen=data_generator(test_files, batch_size,\"preprocessing_meanShift\")\n",
    "# val_gen=data_generator(val_files, batch_size,\"preprocessing_meanShift\")\n",
    "\n",
    "train_gen=data_generator(train_files, batch_size, \"preprocessing_norm\")\n",
    "test_gen=data_generator(test_files, batch_size, \"preprocessing_norm\")\n",
    "val_gen=data_generator(val_files,batch_size, \"preprocessing_norm\")"
   ]
  },
  {
   "cell_type": "code",
   "execution_count": 36,
   "metadata": {},
   "outputs": [
    {
     "name": "stdout",
     "output_type": "stream",
     "text": [
      "Epoch 1/25\n",
      "625/625 [==============================] - 156s 249ms/step - loss: 1.8229 - accuracy: 0.3463 - val_loss: 1.7557 - val_accuracy: 0.3813\n",
      "\n",
      "Epoch 00001: val_loss improved from inf to 1.75569, saving model to model_preprocessed_input/model_preprocessed_input-01-1.76.h5\n",
      "Epoch 2/25\n",
      "625/625 [==============================] - 147s 235ms/step - loss: 1.6866 - accuracy: 0.4035 - val_loss: 1.8206 - val_accuracy: 0.3977\n",
      "\n",
      "Epoch 00002: val_loss did not improve from 1.75569\n",
      "Epoch 3/25\n",
      "625/625 [==============================] - 151s 242ms/step - loss: 1.6285 - accuracy: 0.4253 - val_loss: 1.6769 - val_accuracy: 0.4009\n",
      "\n",
      "Epoch 00003: val_loss improved from 1.75569 to 1.67688, saving model to model_preprocessed_input/model_preprocessed_input-03-1.68.h5\n",
      "Epoch 4/25\n",
      "625/625 [==============================] - 148s 236ms/step - loss: 1.5839 - accuracy: 0.4421 - val_loss: 1.7531 - val_accuracy: 0.4006\n",
      "\n",
      "Epoch 00004: val_loss did not improve from 1.67688\n",
      "Epoch 5/25\n",
      "625/625 [==============================] - 147s 235ms/step - loss: 1.5458 - accuracy: 0.4546 - val_loss: 1.7159 - val_accuracy: 0.3998\n",
      "\n",
      "Epoch 00005: val_loss did not improve from 1.67688\n",
      "Epoch 6/25\n",
      "625/625 [==============================] - 146s 234ms/step - loss: 1.5168 - accuracy: 0.4656 - val_loss: 1.7196 - val_accuracy: 0.3982\n",
      "\n",
      "Epoch 00006: val_loss did not improve from 1.67688\n",
      "Epoch 7/25\n",
      "625/625 [==============================] - 145s 232ms/step - loss: 1.4955 - accuracy: 0.4739 - val_loss: 1.8278 - val_accuracy: 0.3833\n",
      "\n",
      "Epoch 00007: val_loss did not improve from 1.67688\n",
      "Epoch 8/25\n",
      "625/625 [==============================] - 149s 238ms/step - loss: 1.4725 - accuracy: 0.4818 - val_loss: 1.8171 - val_accuracy: 0.3852\n",
      "\n",
      "Epoch 00008: val_loss did not improve from 1.67688\n",
      "Epoch 9/25\n",
      "625/625 [==============================] - 149s 238ms/step - loss: 1.4503 - accuracy: 0.4877 - val_loss: 1.8546 - val_accuracy: 0.3838\n",
      "\n",
      "Epoch 00009: val_loss did not improve from 1.67688\n",
      "Epoch 10/25\n",
      "625/625 [==============================] - 150s 240ms/step - loss: 1.4277 - accuracy: 0.4976 - val_loss: 1.7334 - val_accuracy: 0.3802\n",
      "\n",
      "Epoch 00010: val_loss did not improve from 1.67688\n",
      "Epoch 11/25\n",
      "625/625 [==============================] - 155s 248ms/step - loss: 1.4072 - accuracy: 0.5057 - val_loss: 1.9254 - val_accuracy: 0.3753\n",
      "\n",
      "Epoch 00011: val_loss did not improve from 1.67688\n",
      "Epoch 12/25\n",
      "625/625 [==============================] - 193s 309ms/step - loss: 1.3937 - accuracy: 0.5081 - val_loss: 1.8291 - val_accuracy: 0.3705\n",
      "\n",
      "Epoch 00012: val_loss did not improve from 1.67688\n",
      "Epoch 13/25\n",
      "625/625 [==============================] - 153s 245ms/step - loss: 1.3796 - accuracy: 0.5142 - val_loss: 1.7974 - val_accuracy: 0.3733\n",
      "\n",
      "Epoch 00013: val_loss did not improve from 1.67688\n",
      "Epoch 14/25\n",
      "401/625 [==================>...........] - ETA: 49s - loss: 1.3663 - accuracy: 0.5189"
     ]
    },
    {
     "name": "stderr",
     "output_type": "stream",
     "text": [
      "C:\\Users\\Zohair\\Anaconda3\\lib\\site-packages\\keras\\callbacks\\callbacks.py:95: RuntimeWarning: Method (on_train_batch_end) is slow compared to the batch update (0.100487). Check your callbacks.\n",
      "  % (hook_name, delta_t_median), RuntimeWarning)\n"
     ]
    },
    {
     "name": "stdout",
     "output_type": "stream",
     "text": [
      "625/625 [==============================] - 170s 272ms/step - loss: 1.3619 - accuracy: 0.5212 - val_loss: 2.0058 - val_accuracy: 0.3635\n",
      "\n",
      "Epoch 00014: val_loss did not improve from 1.67688\n",
      "Epoch 15/25\n",
      "625/625 [==============================] - 172s 275ms/step - loss: 1.3452 - accuracy: 0.5296 - val_loss: 2.0351 - val_accuracy: 0.3577\n",
      "\n",
      "Epoch 00015: val_loss did not improve from 1.67688\n",
      "Epoch 16/25\n",
      "625/625 [==============================] - 170s 272ms/step - loss: 1.3306 - accuracy: 0.5331 - val_loss: 2.0026 - val_accuracy: 0.3498\n",
      "\n",
      "Epoch 00016: val_loss did not improve from 1.67688\n",
      "Epoch 17/25\n",
      "625/625 [==============================] - 172s 276ms/step - loss: 1.3208 - accuracy: 0.5346 - val_loss: 2.0066 - val_accuracy: 0.3506\n",
      "\n",
      "Epoch 00017: val_loss did not improve from 1.67688\n",
      "Epoch 18/25\n",
      "625/625 [==============================] - 195s 311ms/step - loss: 1.3183 - accuracy: 0.5335 - val_loss: 1.9533 - val_accuracy: 0.3576\n",
      "\n",
      "Epoch 00018: val_loss did not improve from 1.67688\n",
      "Epoch 19/25\n",
      "625/625 [==============================] - 196s 314ms/step - loss: 1.3129 - accuracy: 0.5353 - val_loss: 1.9167 - val_accuracy: 0.3578\n",
      "\n",
      "Epoch 00019: val_loss did not improve from 1.67688\n",
      "Epoch 20/25\n",
      "625/625 [==============================] - 196s 313ms/step - loss: 1.2990 - accuracy: 0.5411 - val_loss: 2.0535 - val_accuracy: 0.3591\n",
      "\n",
      "Epoch 00020: val_loss did not improve from 1.67688\n",
      "Epoch 21/25\n",
      "  4/625 [..............................] - ETA: 2:26 - loss: 1.3005 - accuracy: 0.5586"
     ]
    },
    {
     "name": "stderr",
     "output_type": "stream",
     "text": [
      "C:\\Users\\Zohair\\Anaconda3\\lib\\site-packages\\keras\\callbacks\\callbacks.py:95: RuntimeWarning: Method (on_train_batch_end) is slow compared to the batch update (0.101021). Check your callbacks.\n",
      "  % (hook_name, delta_t_median), RuntimeWarning)\n"
     ]
    },
    {
     "name": "stdout",
     "output_type": "stream",
     "text": [
      "625/625 [==============================] - 200s 319ms/step - loss: 1.2819 - accuracy: 0.5465 - val_loss: 2.0489 - val_accuracy: 0.3558\n",
      "\n",
      "Epoch 00021: val_loss did not improve from 1.67688\n",
      "Epoch 22/25\n",
      "625/625 [==============================] - 194s 310ms/step - loss: 1.2619 - accuracy: 0.5554 - val_loss: 1.7541 - val_accuracy: 0.3553\n",
      "\n",
      "Epoch 00022: val_loss did not improve from 1.67688\n",
      "Epoch 23/25\n",
      "625/625 [==============================] - 195s 312ms/step - loss: 1.2496 - accuracy: 0.5612 - val_loss: 1.7640 - val_accuracy: 0.3511\n",
      "\n",
      "Epoch 00023: val_loss did not improve from 1.67688\n",
      "Epoch 24/25\n",
      "625/625 [==============================] - 192s 308ms/step - loss: 1.2468 - accuracy: 0.5623 - val_loss: 1.8082 - val_accuracy: 0.3469\n",
      "\n",
      "Epoch 00024: val_loss did not improve from 1.67688\n",
      "Epoch 25/25\n",
      "625/625 [==============================] - 152s 242ms/step - loss: 1.2504 - accuracy: 0.5599 - val_loss: 1.9009 - val_accuracy: 0.3457\n",
      "\n",
      "Epoch 00025: val_loss did not improve from 1.67688\n"
     ]
    }
   ],
   "source": [
    "hist_preprocessed = model_preprocessed.fit_generator(train_gen, epochs=epochs,\n",
    "                           steps_per_epoch=len(train_files)//batch_size,\n",
    "                           validation_data=test_gen,\n",
    "                           callbacks=callbacks,\n",
    "                           verbose=1,\n",
    "                           validation_steps=len(test_files)//batch_size)\n",
    "all_histories.append(hist_preprocessed)"
   ]
  },
  {
   "cell_type": "markdown",
   "metadata": {},
   "source": [
    "### Task 2.1 Pooling\n",
    "Now, you need to modify the model by adding pooling layer(s). Pooling could be average pooling or max pooling. You can use the size and stride for pooling of your choice. \n",
    "<br> \n",
    "Modify the network by introducing pooling layer and train the model using the __fit_generator__ function. "
   ]
  },
  {
   "cell_type": "code",
   "execution_count": 37,
   "metadata": {
    "slideshow": {
     "slide_type": "-"
    }
   },
   "outputs": [],
   "source": [
    "model_name = 'model_pooling'\n",
    "model_names.append(model_name)\n",
    "input_img = Input(shape=(input_shape), name='input_img')\n",
    "model_pooled = None\n",
    "\n",
    "if not os.path.exists('./'+model_name):\n",
    "    os.mkdir(model_name)"
   ]
  },
  {
   "cell_type": "code",
   "execution_count": 78,
   "metadata": {},
   "outputs": [],
   "source": [
    "input_img = Input(shape=(32,32,3), name='input_img')\n",
    "layer= Conv2D(2, kernel_size=(3,3), activation='relu', name=\"c1\")(input_img)\n",
    "layer = MaxPooling2D(pool_size=(2, 2))(layer)\n",
    "# layer = Dropout(rate=0.25)(layer)\n",
    "layer = Conv2D(16, (3, 3), activation='tanh', name='c2')(layer)\n",
    "layer = MaxPooling2D(pool_size=(2, 2))(layer)\n",
    "# layer = Dropout(rate=0.3)(layer)\n",
    "# layer = Conv2D(16, (3, 3), activation='relu')(layer)\n",
    "# layer = MaxPooling2D(pool_size=(2, 2))(layer)\n",
    "# layer = Dropout(rate=0.2)(layer)\n",
    "\n",
    "layer = Flatten()(layer)\n",
    "layer= Dense(20, activation='tanh')(layer)\n",
    "# layer= Dense(64, activation='tanh')(layer)\n",
    "# layer = Dense(128, activation='relu')(layer)\n",
    "# layer = Dropout(rate=0.5)(layer)\n",
    "output_class = Dense(num_classes, activation='softmax')(layer)\n",
    "model_pooled = Model(inputs=input_img, outputs=output_class)"
   ]
  },
  {
   "cell_type": "code",
   "execution_count": 39,
   "metadata": {
    "slideshow": {
     "slide_type": "-"
    }
   },
   "outputs": [],
   "source": [
    "adam = Adam(lr=0.001)\n",
    "model_pooled.compile(loss=\"categorical_crossentropy\", \n",
    "              optimizer=adam, \n",
    "              metrics=['accuracy'])"
   ]
  },
  {
   "cell_type": "code",
   "execution_count": 40,
   "metadata": {
    "slideshow": {
     "slide_type": "-"
    }
   },
   "outputs": [
    {
     "name": "stdout",
     "output_type": "stream",
     "text": [
      "Model: \"model_4\"\n",
      "_________________________________________________________________\n",
      "Layer (type)                 Output Shape              Param #   \n",
      "=================================================================\n",
      "input_img (InputLayer)       (None, 32, 32, 3)         0         \n",
      "_________________________________________________________________\n",
      "conv2d_7 (Conv2D)            (None, 30, 30, 2)         56        \n",
      "_________________________________________________________________\n",
      "max_pooling2d_1 (MaxPooling2 (None, 15, 15, 2)         0         \n",
      "_________________________________________________________________\n",
      "conv2d_8 (Conv2D)            (None, 13, 13, 16)        304       \n",
      "_________________________________________________________________\n",
      "max_pooling2d_2 (MaxPooling2 (None, 6, 6, 16)          0         \n",
      "_________________________________________________________________\n",
      "flatten_4 (Flatten)          (None, 576)               0         \n",
      "_________________________________________________________________\n",
      "dense_7 (Dense)              (None, 20)                11540     \n",
      "_________________________________________________________________\n",
      "dense_8 (Dense)              (None, 10)                210       \n",
      "=================================================================\n",
      "Total params: 12,110\n",
      "Trainable params: 12,110\n",
      "Non-trainable params: 0\n",
      "_________________________________________________________________\n"
     ]
    }
   ],
   "source": [
    "plot_model(model_pooled, model_name+'/'+model_name+'.png')\n",
    "model_pooled.summary()"
   ]
  },
  {
   "cell_type": "code",
   "execution_count": 41,
   "metadata": {},
   "outputs": [],
   "source": [
    "# Add the following callbacks: ModelCheckpoint, CSVLogger\n",
    "checkpoint = ModelCheckpoint(model_name+'/'+model_name+'-{epoch:02d}-{val_loss:.2f}.h5', \n",
    "                             monitor='val_loss', verbose=1, save_best_only=True, mode='auto')\n",
    "cvslogger = CSVLogger(model_name+'/logs.csv', separator=',', append=True)\n",
    "tensorboard = LRTensorBoard(log_dir='./'+model_name, histogram_freq=0, write_graph=True, write_grads=1, \n",
    "                            batch_size=batch_size, write_images=True)\n",
    "\n",
    "callbacks = [checkpoint, tensorboard, cvslogger]"
   ]
  },
  {
   "cell_type": "code",
   "execution_count": 42,
   "metadata": {},
   "outputs": [],
   "source": [
    "# Create generators\n",
    "train_gen=data_generator(train_files, batch_size, \"preprocessing_norm\")\n",
    "test_gen=data_generator(test_files, batch_size, \"preprocessing_norm\")\n",
    "val_gen=data_generator(val_files,batch_size, \"preprocessing_norm\")"
   ]
  },
  {
   "cell_type": "code",
   "execution_count": 43,
   "metadata": {
    "scrolled": true
   },
   "outputs": [
    {
     "name": "stdout",
     "output_type": "stream",
     "text": [
      "Epoch 1/25\n",
      "625/625 [==============================] - 165s 264ms/step - loss: 1.8794 - accuracy: 0.3314 - val_loss: 1.6581 - val_accuracy: 0.4133\n",
      "\n",
      "Epoch 00001: val_loss improved from inf to 1.65811, saving model to model_pooling/model_pooling-01-1.66.h5\n",
      "Epoch 2/25\n",
      "625/625 [==============================] - 171s 273ms/step - loss: 1.6158 - accuracy: 0.4306 - val_loss: 1.6280 - val_accuracy: 0.4530\n",
      "\n",
      "Epoch 00002: val_loss improved from 1.65811 to 1.62796, saving model to model_pooling/model_pooling-02-1.63.h5\n",
      "Epoch 3/25\n",
      "625/625 [==============================] - 163s 261ms/step - loss: 1.5148 - accuracy: 0.4652 - val_loss: 1.4515 - val_accuracy: 0.4691\n",
      "\n",
      "Epoch 00003: val_loss improved from 1.62796 to 1.45152, saving model to model_pooling/model_pooling-03-1.45.h5\n",
      "Epoch 4/25\n",
      "625/625 [==============================] - 136s 217ms/step - loss: 1.4538 - accuracy: 0.4866 - val_loss: 1.3137 - val_accuracy: 0.4871\n",
      "\n",
      "Epoch 00004: val_loss improved from 1.45152 to 1.31366, saving model to model_pooling/model_pooling-04-1.31.h5\n",
      "Epoch 5/25\n",
      "625/625 [==============================] - 134s 214ms/step - loss: 1.4112 - accuracy: 0.5023 - val_loss: 1.2688 - val_accuracy: 0.4987\n",
      "\n",
      "Epoch 00005: val_loss improved from 1.31366 to 1.26878, saving model to model_pooling/model_pooling-05-1.27.h5\n",
      "Epoch 6/25\n",
      "625/625 [==============================] - 133s 212ms/step - loss: 1.3758 - accuracy: 0.5153 - val_loss: 1.2468 - val_accuracy: 0.5043\n",
      "\n",
      "Epoch 00006: val_loss improved from 1.26878 to 1.24675, saving model to model_pooling/model_pooling-06-1.25.h5\n",
      "Epoch 7/25\n",
      "625/625 [==============================] - 132s 211ms/step - loss: 1.3459 - accuracy: 0.5250 - val_loss: 1.2659 - val_accuracy: 0.5150\n",
      "\n",
      "Epoch 00007: val_loss did not improve from 1.24675\n",
      "Epoch 8/25\n",
      "625/625 [==============================] - 131s 210ms/step - loss: 1.3207 - accuracy: 0.5341 - val_loss: 1.4457 - val_accuracy: 0.5216\n",
      "\n",
      "Epoch 00008: val_loss did not improve from 1.24675\n",
      "Epoch 9/25\n",
      "625/625 [==============================] - 135s 215ms/step - loss: 1.2995 - accuracy: 0.5422 - val_loss: 1.3967 - val_accuracy: 0.5245\n",
      "\n",
      "Epoch 00009: val_loss did not improve from 1.24675\n",
      "Epoch 10/25\n",
      "625/625 [==============================] - 134s 215ms/step - loss: 1.2813 - accuracy: 0.5484 - val_loss: 1.3184 - val_accuracy: 0.5310\n",
      "\n",
      "Epoch 00010: val_loss did not improve from 1.24675\n",
      "Epoch 11/25\n",
      "625/625 [==============================] - 133s 212ms/step - loss: 1.2655 - accuracy: 0.5530 - val_loss: 1.3896 - val_accuracy: 0.5338\n",
      "\n",
      "Epoch 00011: val_loss did not improve from 1.24675\n",
      "Epoch 12/25\n",
      "625/625 [==============================] - 154s 247ms/step - loss: 1.2516 - accuracy: 0.5574 - val_loss: 1.2683 - val_accuracy: 0.5375\n",
      "\n",
      "Epoch 00012: val_loss did not improve from 1.24675\n",
      "Epoch 13/25\n",
      "625/625 [==============================] - 151s 241ms/step - loss: 1.2392 - accuracy: 0.5618 - val_loss: 1.2656 - val_accuracy: 0.5388\n",
      "\n",
      "Epoch 00013: val_loss did not improve from 1.24675\n",
      "Epoch 14/25\n",
      "625/625 [==============================] - 135s 217ms/step - loss: 1.2282 - accuracy: 0.5664 - val_loss: 1.4305 - val_accuracy: 0.5404\n",
      "\n",
      "Epoch 00014: val_loss did not improve from 1.24675\n",
      "Epoch 15/25\n",
      "625/625 [==============================] - 152s 243ms/step - loss: 1.2183 - accuracy: 0.5702 - val_loss: 1.2920 - val_accuracy: 0.5419\n",
      "\n",
      "Epoch 00015: val_loss did not improve from 1.24675\n",
      "Epoch 16/25\n",
      "625/625 [==============================] - 154s 246ms/step - loss: 1.2093 - accuracy: 0.5738 - val_loss: 1.3211 - val_accuracy: 0.5443\n",
      "\n",
      "Epoch 00016: val_loss did not improve from 1.24675\n",
      "Epoch 17/25\n",
      "625/625 [==============================] - 150s 241ms/step - loss: 1.2011 - accuracy: 0.5778 - val_loss: 1.3954 - val_accuracy: 0.5441\n",
      "\n",
      "Epoch 00017: val_loss did not improve from 1.24675\n",
      "Epoch 18/25\n",
      "625/625 [==============================] - 149s 239ms/step - loss: 1.1935 - accuracy: 0.5801 - val_loss: 1.3438 - val_accuracy: 0.5462\n",
      "\n",
      "Epoch 00018: val_loss did not improve from 1.24675\n",
      "Epoch 19/25\n",
      "625/625 [==============================] - 155s 248ms/step - loss: 1.1864 - accuracy: 0.5825 - val_loss: 1.3364 - val_accuracy: 0.5446\n",
      "\n",
      "Epoch 00019: val_loss did not improve from 1.24675\n",
      "Epoch 20/25\n",
      "625/625 [==============================] - 152s 244ms/step - loss: 1.1798 - accuracy: 0.5858 - val_loss: 1.3079 - val_accuracy: 0.5446\n",
      "\n",
      "Epoch 00020: val_loss did not improve from 1.24675\n",
      "Epoch 21/25\n",
      "625/625 [==============================] - 163s 260ms/step - loss: 1.1735 - accuracy: 0.5880 - val_loss: 1.3464 - val_accuracy: 0.5452\n",
      "\n",
      "Epoch 00021: val_loss did not improve from 1.24675\n",
      "Epoch 22/25\n",
      "  2/625 [..............................] - ETA: 2:46 - loss: 1.2695 - accuracy: 0.5859"
     ]
    },
    {
     "name": "stderr",
     "output_type": "stream",
     "text": [
      "C:\\Users\\Zohair\\Anaconda3\\lib\\site-packages\\keras\\callbacks\\callbacks.py:95: RuntimeWarning: Method (on_train_batch_end) is slow compared to the batch update (0.219415). Check your callbacks.\n",
      "  % (hook_name, delta_t_median), RuntimeWarning)\n"
     ]
    },
    {
     "name": "stdout",
     "output_type": "stream",
     "text": [
      "625/625 [==============================] - 164s 262ms/step - loss: 1.1674 - accuracy: 0.5888 - val_loss: 1.1575 - val_accuracy: 0.5458\n",
      "\n",
      "Epoch 00022: val_loss improved from 1.24675 to 1.15745, saving model to model_pooling/model_pooling-22-1.16.h5\n",
      "Epoch 23/25\n",
      "625/625 [==============================] - 130s 209ms/step - loss: 1.1616 - accuracy: 0.5913 - val_loss: 1.2470 - val_accuracy: 0.5475\n",
      "\n",
      "Epoch 00023: val_loss did not improve from 1.15745\n",
      "Epoch 24/25\n",
      "625/625 [==============================] - 130s 208ms/step - loss: 1.1560 - accuracy: 0.5934 - val_loss: 1.2113 - val_accuracy: 0.5462\n",
      "\n",
      "Epoch 00024: val_loss did not improve from 1.15745\n",
      "Epoch 25/25\n",
      "625/625 [==============================] - 133s 213ms/step - loss: 1.1507 - accuracy: 0.5951 - val_loss: 1.1125 - val_accuracy: 0.5472\n",
      "\n",
      "Epoch 00025: val_loss improved from 1.15745 to 1.11249, saving model to model_pooling/model_pooling-25-1.11.h5\n"
     ]
    }
   ],
   "source": [
    "hist_pooled = model_pooled.fit_generator(train_gen, epochs=epochs,\n",
    "                           steps_per_epoch=len(train_files)//batch_size,\n",
    "                           validation_data=test_gen,\n",
    "                           callbacks=callbacks,\n",
    "                           verbose=1,\n",
    "                           validation_steps=len(test_files)//batch_size)\n",
    "all_histories.append(hist_pooled)"
   ]
  },
  {
   "cell_type": "markdown",
   "metadata": {},
   "source": [
    "### Task 3.1 Dropout\n",
    "Modify the network by introducing dropout layer(s) and train the model using the __fit_generator__ function. "
   ]
  },
  {
   "cell_type": "code",
   "execution_count": 44,
   "metadata": {},
   "outputs": [],
   "source": [
    "model_name = 'model_dropout'\n",
    "model_names.append(model_name)\n",
    "input_img = Input(shape=(input_shape), name='input_img')\n",
    "layer= Conv2D(2, kernel_size=(3,3), activation='relu')(input_img)\n",
    "layer = MaxPooling2D(pool_size=(2, 2))(layer)\n",
    "layer = Dropout(rate=0.25)(layer)\n",
    "layer = Conv2D(16, (3, 3), activation='tanh')(layer)\n",
    "layer = MaxPooling2D(pool_size=(2, 2))(layer)\n",
    "layer = Dropout(rate=0.3)(layer)\n",
    "# layer = Conv2D(16, (3, 3), activation='relu')(layer)\n",
    "# layer = MaxPooling2D(pool_size=(2, 2))(layer)\n",
    "# layer = Dropout(rate=0.2)(layer)\n",
    "\n",
    "layer = Flatten()(layer)\n",
    "layer= Dense(20, activation='tanh')(layer)\n",
    "# layer= Dense(64, activation='tanh')(layer)\n",
    "# layer = Dense(128, activation='relu')(layer)\n",
    "layer = Dropout(rate=0.5)(layer)\n",
    "output_class = Dense(num_classes, activation='softmax')(layer)\n",
    "model_dropout = Model(inputs=input_img, outputs=output_class)\n",
    "\n",
    "if not os.path.exists('./'+model_name):\n",
    "    os.mkdir(model_name)"
   ]
  },
  {
   "cell_type": "code",
   "execution_count": 45,
   "metadata": {},
   "outputs": [],
   "source": [
    "adam = Adam(lr=0.001)\n",
    "model_dropout.compile(loss=\"categorical_crossentropy\", \n",
    "              optimizer=adam, \n",
    "              metrics=['accuracy'])"
   ]
  },
  {
   "cell_type": "code",
   "execution_count": 46,
   "metadata": {},
   "outputs": [
    {
     "name": "stdout",
     "output_type": "stream",
     "text": [
      "Model: \"model_5\"\n",
      "_________________________________________________________________\n",
      "Layer (type)                 Output Shape              Param #   \n",
      "=================================================================\n",
      "input_img (InputLayer)       (None, 32, 32, 3)         0         \n",
      "_________________________________________________________________\n",
      "conv2d_9 (Conv2D)            (None, 30, 30, 2)         56        \n",
      "_________________________________________________________________\n",
      "max_pooling2d_3 (MaxPooling2 (None, 15, 15, 2)         0         \n",
      "_________________________________________________________________\n",
      "dropout_1 (Dropout)          (None, 15, 15, 2)         0         \n",
      "_________________________________________________________________\n",
      "conv2d_10 (Conv2D)           (None, 13, 13, 16)        304       \n",
      "_________________________________________________________________\n",
      "max_pooling2d_4 (MaxPooling2 (None, 6, 6, 16)          0         \n",
      "_________________________________________________________________\n",
      "dropout_2 (Dropout)          (None, 6, 6, 16)          0         \n",
      "_________________________________________________________________\n",
      "flatten_5 (Flatten)          (None, 576)               0         \n",
      "_________________________________________________________________\n",
      "dense_9 (Dense)              (None, 20)                11540     \n",
      "_________________________________________________________________\n",
      "dropout_3 (Dropout)          (None, 20)                0         \n",
      "_________________________________________________________________\n",
      "dense_10 (Dense)             (None, 10)                210       \n",
      "=================================================================\n",
      "Total params: 12,110\n",
      "Trainable params: 12,110\n",
      "Non-trainable params: 0\n",
      "_________________________________________________________________\n"
     ]
    }
   ],
   "source": [
    "plot_model(model_dropout, model_name+'/'+model_name+'.png')\n",
    "model_dropout.summary()"
   ]
  },
  {
   "cell_type": "code",
   "execution_count": 47,
   "metadata": {},
   "outputs": [],
   "source": [
    "checkpoint = ModelCheckpoint(model_name+'/'+model_name+'-{epoch:02d}-{val_loss:.2f}.h5', \n",
    "                             monitor='val_loss', verbose=1, save_best_only=True, mode='auto')\n",
    "cvslogger = CSVLogger(model_name+'/logs.csv', separator=',', append=True)\n",
    "tensorboard = LRTensorBoard(log_dir='./'+model_name, histogram_freq=0, write_graph=True, write_grads=1, \n",
    "                            batch_size=batch_size, write_images=True)\n",
    "\n",
    "callbacks = [checkpoint, tensorboard, cvslogger]"
   ]
  },
  {
   "cell_type": "code",
   "execution_count": 48,
   "metadata": {},
   "outputs": [],
   "source": [
    "# Create three Generators\n",
    "# train_gen=data_generator(train_files, batch_size,\"preprocessing_meanShift\")\n",
    "# test_gen=data_generator(test_files, batch_size,\"preprocessing_meanShift\")\n",
    "# val_gen=data_generator(val_files, batch_size,\"preprocessing_meanShift\")\n",
    "\n",
    "train_gen=data_generator(train_files, batch_size, \"preprocessing_norm\")\n",
    "test_gen=data_generator(test_files, batch_size, \"preprocessing_norm\")\n",
    "val_gen=data_generator(val_files,batch_size, \"preprocessing_norm\")"
   ]
  },
  {
   "cell_type": "code",
   "execution_count": 49,
   "metadata": {
    "scrolled": true
   },
   "outputs": [
    {
     "name": "stdout",
     "output_type": "stream",
     "text": [
      "Epoch 1/25\n",
      "625/625 [==============================] - 136s 217ms/step - loss: 1.9830 - accuracy: 0.2667 - val_loss: 1.7511 - val_accuracy: 0.3485\n",
      "\n",
      "Epoch 00001: val_loss improved from inf to 1.75111, saving model to model_dropout/model_dropout-01-1.75.h5\n",
      "Epoch 2/25\n",
      "625/625 [==============================] - 131s 210ms/step - loss: 1.8357 - accuracy: 0.3284 - val_loss: 1.7106 - val_accuracy: 0.3666\n",
      "\n",
      "Epoch 00002: val_loss improved from 1.75111 to 1.71059, saving model to model_dropout/model_dropout-02-1.71.h5\n",
      "Epoch 3/25\n",
      "625/625 [==============================] - 134s 214ms/step - loss: 1.7885 - accuracy: 0.3444 - val_loss: 1.7878 - val_accuracy: 0.3709\n",
      "\n",
      "Epoch 00003: val_loss did not improve from 1.71059\n",
      "Epoch 4/25\n",
      "625/625 [==============================] - 128s 206ms/step - loss: 1.7616 - accuracy: 0.3575 - val_loss: 1.8412 - val_accuracy: 0.3773\n",
      "\n",
      "Epoch 00004: val_loss did not improve from 1.71059\n",
      "Epoch 5/25\n",
      "625/625 [==============================] - 129s 206ms/step - loss: 1.7437 - accuracy: 0.3619 - val_loss: 1.7600 - val_accuracy: 0.3914\n",
      "\n",
      "Epoch 00005: val_loss did not improve from 1.71059\n",
      "Epoch 6/25\n",
      "625/625 [==============================] - 133s 213ms/step - loss: 1.7360 - accuracy: 0.3657 - val_loss: 1.8064 - val_accuracy: 0.3772\n",
      "\n",
      "Epoch 00006: val_loss did not improve from 1.71059\n",
      "Epoch 7/25\n",
      "625/625 [==============================] - 131s 209ms/step - loss: 1.7303 - accuracy: 0.3687 - val_loss: 1.7984 - val_accuracy: 0.3656\n",
      "\n",
      "Epoch 00007: val_loss did not improve from 1.71059\n",
      "Epoch 8/25\n",
      "625/625 [==============================] - 129s 207ms/step - loss: 1.7267 - accuracy: 0.3724 - val_loss: 1.7862 - val_accuracy: 0.3890\n",
      "\n",
      "Epoch 00008: val_loss did not improve from 1.71059\n",
      "Epoch 9/25\n",
      "625/625 [==============================] - 130s 208ms/step - loss: 1.7171 - accuracy: 0.3761 - val_loss: 1.7549 - val_accuracy: 0.3881\n",
      "\n",
      "Epoch 00009: val_loss did not improve from 1.71059\n",
      "Epoch 10/25\n",
      "625/625 [==============================] - 131s 209ms/step - loss: 1.7103 - accuracy: 0.3774 - val_loss: 1.7104 - val_accuracy: 0.3847\n",
      "\n",
      "Epoch 00010: val_loss improved from 1.71059 to 1.71044, saving model to model_dropout/model_dropout-10-1.71.h5\n",
      "Epoch 11/25\n",
      "625/625 [==============================] - 130s 209ms/step - loss: 1.7089 - accuracy: 0.3810 - val_loss: 1.7610 - val_accuracy: 0.3816\n",
      "\n",
      "Epoch 00011: val_loss did not improve from 1.71044\n",
      "Epoch 12/25\n",
      "625/625 [==============================] - 129s 207ms/step - loss: 1.7027 - accuracy: 0.3838 - val_loss: 1.6817 - val_accuracy: 0.3838\n",
      "\n",
      "Epoch 00012: val_loss improved from 1.71044 to 1.68171, saving model to model_dropout/model_dropout-12-1.68.h5\n",
      "Epoch 13/25\n",
      "625/625 [==============================] - 142s 227ms/step - loss: 1.7055 - accuracy: 0.3823 - val_loss: 1.6042 - val_accuracy: 0.3970\n",
      "\n",
      "Epoch 00013: val_loss improved from 1.68171 to 1.60416, saving model to model_dropout/model_dropout-13-1.60.h5\n",
      "Epoch 14/25\n",
      "625/625 [==============================] - 132s 211ms/step - loss: 1.6984 - accuracy: 0.3841 - val_loss: 1.6715 - val_accuracy: 0.3948\n",
      "\n",
      "Epoch 00014: val_loss did not improve from 1.60416\n",
      "Epoch 15/25\n",
      "625/625 [==============================] - 145s 233ms/step - loss: 1.7020 - accuracy: 0.3879 - val_loss: 1.6891 - val_accuracy: 0.3845\n",
      "\n",
      "Epoch 00015: val_loss did not improve from 1.60416\n",
      "Epoch 16/25\n",
      "625/625 [==============================] - 135s 216ms/step - loss: 1.6969 - accuracy: 0.3834 - val_loss: 1.6464 - val_accuracy: 0.4009\n",
      "\n",
      "Epoch 00016: val_loss did not improve from 1.60416\n",
      "Epoch 17/25\n",
      "625/625 [==============================] - 183s 293ms/step - loss: 1.7022 - accuracy: 0.3844 - val_loss: 1.7323 - val_accuracy: 0.3893\n",
      "\n",
      "Epoch 00017: val_loss did not improve from 1.60416\n",
      "Epoch 18/25\n",
      "625/625 [==============================] - 173s 276ms/step - loss: 1.6957 - accuracy: 0.3886 - val_loss: 1.6751 - val_accuracy: 0.3973\n",
      "\n",
      "Epoch 00018: val_loss did not improve from 1.60416\n",
      "Epoch 19/25\n",
      "625/625 [==============================] - 130s 208ms/step - loss: 1.6893 - accuracy: 0.3866 - val_loss: 1.5725 - val_accuracy: 0.4060\n",
      "\n",
      "Epoch 00019: val_loss improved from 1.60416 to 1.57251, saving model to model_dropout/model_dropout-19-1.57.h5\n",
      "Epoch 20/25\n",
      "625/625 [==============================] - 132s 212ms/step - loss: 1.6912 - accuracy: 0.3902 - val_loss: 1.6832 - val_accuracy: 0.3984\n",
      "\n",
      "Epoch 00020: val_loss did not improve from 1.57251\n",
      "Epoch 21/25\n",
      "625/625 [==============================] - 131s 210ms/step - loss: 1.6856 - accuracy: 0.3866 - val_loss: 1.7100 - val_accuracy: 0.3970\n",
      "\n",
      "Epoch 00021: val_loss did not improve from 1.57251\n",
      "Epoch 22/25\n",
      "625/625 [==============================] - 139s 222ms/step - loss: 1.6909 - accuracy: 0.3879 - val_loss: 1.6254 - val_accuracy: 0.4066\n",
      "\n",
      "Epoch 00022: val_loss did not improve from 1.57251\n",
      "Epoch 23/25\n",
      "625/625 [==============================] - 135s 215ms/step - loss: 1.6831 - accuracy: 0.3911 - val_loss: 1.5288 - val_accuracy: 0.4078\n",
      "\n",
      "Epoch 00023: val_loss improved from 1.57251 to 1.52884, saving model to model_dropout/model_dropout-23-1.53.h5\n",
      "Epoch 24/25\n",
      "625/625 [==============================] - 136s 218ms/step - loss: 1.6842 - accuracy: 0.3924 - val_loss: 1.4909 - val_accuracy: 0.4083\n",
      "\n",
      "Epoch 00024: val_loss improved from 1.52884 to 1.49086, saving model to model_dropout/model_dropout-24-1.49.h5\n",
      "Epoch 25/25\n",
      "625/625 [==============================] - 141s 226ms/step - loss: 1.6829 - accuracy: 0.3927 - val_loss: 1.4605 - val_accuracy: 0.4048\n",
      "\n",
      "Epoch 00025: val_loss improved from 1.49086 to 1.46049, saving model to model_dropout/model_dropout-25-1.46.h5\n"
     ]
    }
   ],
   "source": [
    "hist_dropout = model_dropout.fit_generator(train_gen, epochs=epochs,\n",
    "                           steps_per_epoch=len(train_files)//batch_size,\n",
    "                           validation_data=test_gen,\n",
    "                           callbacks=callbacks,\n",
    "                           verbose=1,\n",
    "                           validation_steps=len(test_files)//batch_size)\n",
    "\n",
    "all_histories.append(hist_dropout)"
   ]
  },
  {
   "cell_type": "markdown",
   "metadata": {},
   "source": [
    "### Task 4.1 Batch Normalization\n",
    "Modify the network by introducing batch normalization layer(s) and train the model. "
   ]
  },
  {
   "cell_type": "code",
   "execution_count": 50,
   "metadata": {},
   "outputs": [],
   "source": [
    "model_name = 'model_batch_normalized'\n",
    "model_names.append(model_name)\n",
    "if not os.path.exists('./'+model_name):\n",
    "    os.mkdir(model_name)"
   ]
  },
  {
   "cell_type": "code",
   "execution_count": 51,
   "metadata": {},
   "outputs": [],
   "source": [
    "input_img = Input(shape=(input_shape), name='input_img')\n",
    "layer= Conv2D(2, kernel_size=(3,3), activation='relu')(input_img)\n",
    "layer = MaxPooling2D(pool_size=(2, 2))(layer)\n",
    "layer = Dropout(rate=0.25)(layer)\n",
    "layer = Conv2D(16, (3, 3), activation='tanh')(layer)\n",
    "layer = MaxPooling2D(pool_size=(2, 2))(layer)\n",
    "layer = Dropout(rate=0.3)(layer)\n",
    "# layer = Conv2D(16, (3, 3), activation='relu')(layer)\n",
    "# layer = MaxPooling2D(pool_size=(2, 2))(layer)\n",
    "# layer = Dropout(rate=0.2)(layer)\n",
    "layer=BatchNormalization()(layer)\n",
    "layer = Flatten()(layer)\n",
    "layer= Dense(20, activation='tanh')(layer)\n",
    "# layer= Dense(64, activation='tanh')(layer)\n",
    "# layer = Dense(128, activation='relu')(layer)\n",
    "layer = Dropout(rate=0.5)(layer)\n",
    "layer=BatchNormalization()(layer)\n",
    "output_class = Dense(num_classes, activation='softmax')(layer)\n",
    "model_normalized = Model(inputs=input_img, outputs=output_class)"
   ]
  },
  {
   "cell_type": "code",
   "execution_count": 52,
   "metadata": {},
   "outputs": [],
   "source": [
    "adam = Adam(lr=0.001)\n",
    "model_normalized.compile(loss=\"categorical_crossentropy\", \n",
    "              optimizer=adam, \n",
    "              metrics=['accuracy'])"
   ]
  },
  {
   "cell_type": "code",
   "execution_count": 53,
   "metadata": {},
   "outputs": [
    {
     "name": "stdout",
     "output_type": "stream",
     "text": [
      "Model: \"model_6\"\n",
      "_________________________________________________________________\n",
      "Layer (type)                 Output Shape              Param #   \n",
      "=================================================================\n",
      "input_img (InputLayer)       (None, 32, 32, 3)         0         \n",
      "_________________________________________________________________\n",
      "conv2d_11 (Conv2D)           (None, 30, 30, 2)         56        \n",
      "_________________________________________________________________\n",
      "max_pooling2d_5 (MaxPooling2 (None, 15, 15, 2)         0         \n",
      "_________________________________________________________________\n",
      "dropout_4 (Dropout)          (None, 15, 15, 2)         0         \n",
      "_________________________________________________________________\n",
      "conv2d_12 (Conv2D)           (None, 13, 13, 16)        304       \n",
      "_________________________________________________________________\n",
      "max_pooling2d_6 (MaxPooling2 (None, 6, 6, 16)          0         \n",
      "_________________________________________________________________\n",
      "dropout_5 (Dropout)          (None, 6, 6, 16)          0         \n",
      "_________________________________________________________________\n",
      "batch_normalization_1 (Batch (None, 6, 6, 16)          64        \n",
      "_________________________________________________________________\n",
      "flatten_6 (Flatten)          (None, 576)               0         \n",
      "_________________________________________________________________\n",
      "dense_11 (Dense)             (None, 20)                11540     \n",
      "_________________________________________________________________\n",
      "dropout_6 (Dropout)          (None, 20)                0         \n",
      "_________________________________________________________________\n",
      "batch_normalization_2 (Batch (None, 20)                80        \n",
      "_________________________________________________________________\n",
      "dense_12 (Dense)             (None, 10)                210       \n",
      "=================================================================\n",
      "Total params: 12,254\n",
      "Trainable params: 12,182\n",
      "Non-trainable params: 72\n",
      "_________________________________________________________________\n"
     ]
    }
   ],
   "source": [
    "plot_model(model_normalized, model_name+'/'+model_name+'.png')\n",
    "model_normalized.summary()"
   ]
  },
  {
   "cell_type": "code",
   "execution_count": 54,
   "metadata": {},
   "outputs": [],
   "source": [
    "# Add the following checkpoints: ModelCheckpoint, CSVLogger\n",
    "checkpoint = ModelCheckpoint(model_name+'/'+model_name+'-{epoch:02d}-{val_loss:.2f}.h5', \n",
    "                             monitor='val_loss', verbose=1, save_best_only=True, mode='auto')\n",
    "cvslogger = CSVLogger(model_name+'/logs.csv', separator=',', append=True)\n",
    "tensorboard = LRTensorBoard(log_dir='./'+model_name, histogram_freq=0, write_graph=True, write_grads=1, \n",
    "                            batch_size=batch_size, write_images=True)\n",
    "\n",
    "callbacks = [checkpoint, tensorboard, cvslogger]"
   ]
  },
  {
   "cell_type": "code",
   "execution_count": 55,
   "metadata": {},
   "outputs": [],
   "source": [
    "# Create three generators\n",
    "train_gen=data_generator(train_files, batch_size, \"preprocessing_norm\")\n",
    "test_gen=data_generator(test_files, batch_size, \"preprocessing_norm\")\n",
    "val_gen=data_generator(val_files,batch_size, \"preprocessing_norm\")"
   ]
  },
  {
   "cell_type": "code",
   "execution_count": 56,
   "metadata": {
    "scrolled": true
   },
   "outputs": [
    {
     "name": "stdout",
     "output_type": "stream",
     "text": [
      "Epoch 1/25\n",
      "625/625 [==============================] - 140s 225ms/step - loss: 2.1341 - accuracy: 0.2181 - val_loss: 1.8459 - val_accuracy: 0.3025\n",
      "\n",
      "Epoch 00001: val_loss improved from inf to 1.84595, saving model to model_batch_normalized/model_batch_normalized-01-1.85.h5\n",
      "Epoch 2/25\n",
      "625/625 [==============================] - 130s 208ms/step - loss: 1.8934 - accuracy: 0.2893 - val_loss: 1.8176 - val_accuracy: 0.2893\n",
      "\n",
      "Epoch 00002: val_loss improved from 1.84595 to 1.81764, saving model to model_batch_normalized/model_batch_normalized-02-1.82.h5\n",
      "Epoch 3/25\n",
      "625/625 [==============================] - 137s 220ms/step - loss: 1.8342 - accuracy: 0.3186 - val_loss: 1.8009 - val_accuracy: 0.3028\n",
      "\n",
      "Epoch 00003: val_loss improved from 1.81764 to 1.80092, saving model to model_batch_normalized/model_batch_normalized-03-1.80.h5\n",
      "Epoch 4/25\n",
      "625/625 [==============================] - 131s 209ms/step - loss: 1.8088 - accuracy: 0.3327 - val_loss: 1.8784 - val_accuracy: 0.3073\n",
      "\n",
      "Epoch 00004: val_loss did not improve from 1.80092\n",
      "Epoch 5/25\n",
      "625/625 [==============================] - 134s 215ms/step - loss: 1.7873 - accuracy: 0.3420 - val_loss: 1.8546 - val_accuracy: 0.3105\n",
      "\n",
      "Epoch 00005: val_loss did not improve from 1.80092\n",
      "Epoch 6/25\n",
      "625/625 [==============================] - 140s 223ms/step - loss: 1.7770 - accuracy: 0.3469 - val_loss: 2.0138 - val_accuracy: 0.2954\n",
      "\n",
      "Epoch 00006: val_loss did not improve from 1.80092\n",
      "Epoch 7/25\n",
      "625/625 [==============================] - 141s 226ms/step - loss: 1.7720 - accuracy: 0.3522 - val_loss: 1.7348 - val_accuracy: 0.3654\n",
      "\n",
      "Epoch 00007: val_loss improved from 1.80092 to 1.73475, saving model to model_batch_normalized/model_batch_normalized-07-1.73.h5\n",
      "Epoch 8/25\n",
      "625/625 [==============================] - 144s 231ms/step - loss: 1.7592 - accuracy: 0.3545 - val_loss: 1.9790 - val_accuracy: 0.3126\n",
      "\n",
      "Epoch 00008: val_loss did not improve from 1.73475\n",
      "Epoch 9/25\n",
      "625/625 [==============================] - 134s 215ms/step - loss: 1.7506 - accuracy: 0.3635 - val_loss: 1.7797 - val_accuracy: 0.3465\n",
      "\n",
      "Epoch 00009: val_loss did not improve from 1.73475\n",
      "Epoch 10/25\n",
      "625/625 [==============================] - 135s 216ms/step - loss: 1.7462 - accuracy: 0.3609 - val_loss: 1.7636 - val_accuracy: 0.3328\n",
      "\n",
      "Epoch 00010: val_loss did not improve from 1.73475\n",
      "Epoch 11/25\n",
      "625/625 [==============================] - 143s 229ms/step - loss: 1.7405 - accuracy: 0.3654 - val_loss: 1.6797 - val_accuracy: 0.3663\n",
      "\n",
      "Epoch 00011: val_loss improved from 1.73475 to 1.67975, saving model to model_batch_normalized/model_batch_normalized-11-1.68.h5\n",
      "Epoch 12/25\n",
      "625/625 [==============================] - 138s 220ms/step - loss: 1.7337 - accuracy: 0.3659 - val_loss: 1.6456 - val_accuracy: 0.3472\n",
      "\n",
      "Epoch 00012: val_loss improved from 1.67975 to 1.64559, saving model to model_batch_normalized/model_batch_normalized-12-1.65.h5\n",
      "Epoch 13/25\n",
      "625/625 [==============================] - 139s 222ms/step - loss: 1.7266 - accuracy: 0.3710 - val_loss: 1.5649 - val_accuracy: 0.3567\n",
      "\n",
      "Epoch 00013: val_loss improved from 1.64559 to 1.56494, saving model to model_batch_normalized/model_batch_normalized-13-1.56.h5\n",
      "Epoch 14/25\n",
      "625/625 [==============================] - 141s 226ms/step - loss: 1.7282 - accuracy: 0.3699 - val_loss: 1.6308 - val_accuracy: 0.3700\n",
      "\n",
      "Epoch 00014: val_loss did not improve from 1.56494\n",
      "Epoch 15/25\n",
      "625/625 [==============================] - 138s 220ms/step - loss: 1.7209 - accuracy: 0.3707 - val_loss: 1.7496 - val_accuracy: 0.3214\n",
      "\n",
      "Epoch 00015: val_loss did not improve from 1.56494\n",
      "Epoch 16/25\n",
      "625/625 [==============================] - 185s 296ms/step - loss: 1.7173 - accuracy: 0.3767 - val_loss: 1.6636 - val_accuracy: 0.3609\n",
      "\n",
      "Epoch 00016: val_loss did not improve from 1.56494\n",
      "Epoch 17/25\n",
      "625/625 [==============================] - 148s 237ms/step - loss: 1.7168 - accuracy: 0.3763 - val_loss: 1.7802 - val_accuracy: 0.3338\n",
      "\n",
      "Epoch 00017: val_loss did not improve from 1.56494\n",
      "Epoch 18/25\n",
      "625/625 [==============================] - 150s 240ms/step - loss: 1.7072 - accuracy: 0.3798 - val_loss: 1.5954 - val_accuracy: 0.3813\n",
      "\n",
      "Epoch 00018: val_loss did not improve from 1.56494\n",
      "Epoch 19/25\n",
      "625/625 [==============================] - 136s 218ms/step - loss: 1.7051 - accuracy: 0.3809 - val_loss: 1.5579 - val_accuracy: 0.4004\n",
      "\n",
      "Epoch 00019: val_loss improved from 1.56494 to 1.55791, saving model to model_batch_normalized/model_batch_normalized-19-1.56.h5\n",
      "Epoch 20/25\n",
      "625/625 [==============================] - 133s 212ms/step - loss: 1.7055 - accuracy: 0.3812 - val_loss: 1.6751 - val_accuracy: 0.3869\n",
      "\n",
      "Epoch 00020: val_loss did not improve from 1.55791\n",
      "Epoch 21/25\n",
      "625/625 [==============================] - 144s 231ms/step - loss: 1.7042 - accuracy: 0.3788 - val_loss: 1.7780 - val_accuracy: 0.3808\n",
      "\n",
      "Epoch 00021: val_loss did not improve from 1.55791\n",
      "Epoch 22/25\n",
      "625/625 [==============================] - 134s 214ms/step - loss: 1.7025 - accuracy: 0.3785 - val_loss: 1.6941 - val_accuracy: 0.3872\n",
      "\n",
      "Epoch 00022: val_loss did not improve from 1.55791\n",
      "Epoch 23/25\n",
      "625/625 [==============================] - 140s 224ms/step - loss: 1.7050 - accuracy: 0.3824 - val_loss: 1.6303 - val_accuracy: 0.3954\n",
      "\n",
      "Epoch 00023: val_loss did not improve from 1.55791\n",
      "Epoch 24/25\n",
      "625/625 [==============================] - 135s 216ms/step - loss: 1.6983 - accuracy: 0.3866 - val_loss: 1.5656 - val_accuracy: 0.4184\n",
      "\n",
      "Epoch 00024: val_loss did not improve from 1.55791\n",
      "Epoch 25/25\n",
      "625/625 [==============================] - 135s 217ms/step - loss: 1.6946 - accuracy: 0.3864 - val_loss: 1.5688 - val_accuracy: 0.3907\n",
      "\n",
      "Epoch 00025: val_loss did not improve from 1.55791\n"
     ]
    }
   ],
   "source": [
    "hist_normalized =  model_normalized.fit_generator(train_gen, epochs=epochs,\n",
    "                           steps_per_epoch=len(train_files)//batch_size,\n",
    "                           validation_data=test_gen,\n",
    "                           callbacks=callbacks,\n",
    "                           verbose=1,\n",
    "                           validation_steps=len(test_files)//batch_size)\n",
    "all_histories.append(hist_normalized)"
   ]
  },
  {
   "cell_type": "markdown",
   "metadata": {},
   "source": [
    "### Task 5.1 Comparison of all models\n",
    "In this task you need to plot the loss and accuracy for all models and __discuss__ which model has better performance and why do you think so."
   ]
  },
  {
   "cell_type": "code",
   "execution_count": 57,
   "metadata": {},
   "outputs": [],
   "source": [
    "# Plot accuracy of all models\n",
    "def plotHistory(histories, names, metric):\n",
    "    plt.clf() \n",
    "    x_axis = list(range(epochs))\n",
    "    for hist, name in zip(histories, names):\n",
    "        plt.plot(x_axis, hist.history[metric], label=metric+'_'+name)\n",
    "        plt.scatter(x_axis, hist.history[metric])\n",
    "    plt.legend()\n",
    "    plt.title(metric)\n",
    "    plt.show()"
   ]
  },
  {
   "cell_type": "code",
   "execution_count": 58,
   "metadata": {},
   "outputs": [
    {
     "data": {
      "image/png": "[encoded data removed]",
      "text/plain": [
       "<Figure size 576x396 with 1 Axes>"
      ]
     },
     "metadata": {},
     "output_type": "display_data"
    },
    {
     "data": {
      "image/png": "[encoded data removed]",
      "text/plain": [
       "<Figure size 576x396 with 1 Axes>"
      ]
     },
     "metadata": {},
     "output_type": "display_data"
    },
    {
     "data": {
      "image/png": "[encoded data removed]",
      "text/plain": [
       "<Figure size 576x396 with 1 Axes>"
      ]
     },
     "metadata": {},
     "output_type": "display_data"
    },
    {
     "data": {
      "image/png": "[encoded data removed]",
      "text/plain": [
       "<Figure size 576x396 with 1 Axes>"
      ]
     },
     "metadata": {},
     "output_type": "display_data"
    }
   ],
   "source": [
    "# Plot histories of all models\n",
    "#give different metrics\n",
    "plotHistory(all_histories, model_names, \"loss\")\n",
    "plotHistory(all_histories, model_names, \"accuracy\")\n",
    "plotHistory(all_histories, model_names, \"val_loss\")\n",
    "plotHistory(all_histories, model_names, \"val_accuracy\")"
   ]
  },
  {
   "cell_type": "markdown",
   "metadata": {},
   "source": [
    "From the above plots, we can deduce that the model with the best performance is the one with pooling and preprocessing but not drop out and batch normalization. The reason for this may be that preprocessing standardized the data and pooling shrinked it to successfully learn the features but drop out was too high leading to a fall in accuracy and increase in loss due to less neurons at work. Batch normalization too seemed to add complexity rather than reduce it."
   ]
  },
  {
   "cell_type": "markdown",
   "metadata": {},
   "source": [
    "#### Tensorboard \n",
    "We will be covering Tensorboard in Friday's tutorial. You can complete this part after the tutorial (21st Feb 2020)"
   ]
  },
  {
   "cell_type": "markdown",
   "metadata": {},
   "source": [
    "You can run TensorBoard using the following command\n",
    "```tensorboard --logdir=path/to/log-directory\n",
    "```\n",
    "Now for logs of all above trained models, take snapshot of the _loss_ and _accuracy_ plots and save in the directory where this notebook is. To show that saved plot here in notebook use following command in _markdown_ cell. \n",
    "<br> __![](path_to_image)__"
   ]
  },
  {
   "cell_type": "markdown",
   "metadata": {},
   "source": [
    "**Add cells to include loss plots**"
   ]
  },
  {
   "cell_type": "markdown",
   "metadata": {},
   "source": [
    "##### Add your analysis here"
   ]
  },
  {
   "cell_type": "markdown",
   "metadata": {},
   "source": []
  },
  {
   "cell_type": "markdown",
   "metadata": {},
   "source": [
    "### Task 5.2 Visualize Activations\n",
    "We will be covering this in Friday's tutorial. You can complete this part after the tutorial (21st Feb 2020). In this task, you are required to visualize the activations (outputs) of both the convolution layers of a model."
   ]
  },
  {
   "cell_type": "code",
   "execution_count": 59,
   "metadata": {},
   "outputs": [
    {
     "data": {
      "text/plain": [
       "<matplotlib.image.AxesImage at 0x1d1607a2128>"
      ]
     },
     "execution_count": 59,
     "metadata": {},
     "output_type": "execute_result"
    },
    {
     "data": {
      "image/png": "[encoded data removed]",
      "text/plain": [
       "<Figure size 576x396 with 1 Axes>"
      ]
     },
     "metadata": {},
     "output_type": "display_data"
    }
   ],
   "source": [
    "# Load any image here\n",
    "test_image = cv2.imread (test_files[1])\n",
    "\n",
    "plt.imshow(test_image)"
   ]
  },
  {
   "cell_type": "code",
   "execution_count": 64,
   "metadata": {},
   "outputs": [
    {
     "data": {
      "text/plain": [
       "array([5], dtype=int64)"
      ]
     },
     "execution_count": 64,
     "metadata": {},
     "output_type": "execute_result"
    },
    {
     "data": {
      "image/png": "[encoded data removed]",
      "text/plain": [
       "<Figure size 576x396 with 1 Axes>"
      ]
     },
     "metadata": {},
     "output_type": "display_data"
    }
   ],
   "source": [
    "plt.gca().grid(False);\n",
    "\n",
    "test_reshaped = test_image.reshape((1,32,32,3))\n",
    "\n",
    "# Get a prediction from ANY ONE of your models and output its label\n",
    "model_pooled.predict(test_reshaped).argmax(axis=1)\n",
    "#correctly labelled as 5 or dog"
   ]
  },
  {
   "cell_type": "code",
   "execution_count": 79,
   "metadata": {},
   "outputs": [],
   "source": [
    "# Create a Model from the Input layer to a Convolutional Layer\n",
    "new_model = Model(inputs=input_img, \n",
    "                  outputs=model_pooled.get_layer('c1').output)"
   ]
  },
  {
   "cell_type": "code",
   "execution_count": 80,
   "metadata": {},
   "outputs": [],
   "source": [
    "# Get a prediction for your chosen image using this model\n",
    "predicted_activations = new_model.predict(test_reshaped)"
   ]
  },
  {
   "cell_type": "code",
   "execution_count": 87,
   "metadata": {},
   "outputs": [
    {
     "ename": "IndexError",
     "evalue": "index 2 is out of bounds for axis 3 with size 2",
     "output_type": "error",
     "traceback": [
      "\u001b[1;31m---------------------------------------------------------------------------\u001b[0m",
      "\u001b[1;31mIndexError\u001b[0m                                Traceback (most recent call last)",
      "\u001b[1;32m<ipython-input-87-c23310c6c446>\u001b[0m in \u001b[0;36m<module>\u001b[1;34m\u001b[0m\n\u001b[0;32m      2\u001b[0m \u001b[0mfig\u001b[0m\u001b[1;33m,\u001b[0m \u001b[0maxes\u001b[0m \u001b[1;33m=\u001b[0m \u001b[0mplt\u001b[0m\u001b[1;33m.\u001b[0m\u001b[0msubplots\u001b[0m\u001b[1;33m(\u001b[0m\u001b[0mnrows\u001b[0m\u001b[1;33m=\u001b[0m\u001b[1;36m2\u001b[0m\u001b[1;33m,\u001b[0m \u001b[0mncols\u001b[0m\u001b[1;33m=\u001b[0m\u001b[1;36m2\u001b[0m\u001b[1;33m,\u001b[0m \u001b[0mfigsize\u001b[0m\u001b[1;33m=\u001b[0m\u001b[1;33m(\u001b[0m\u001b[1;36m15\u001b[0m\u001b[1;33m,\u001b[0m\u001b[1;36m15\u001b[0m\u001b[1;33m)\u001b[0m\u001b[1;33m,\u001b[0m \u001b[0mdpi\u001b[0m\u001b[1;33m=\u001b[0m\u001b[1;36m80\u001b[0m\u001b[1;33m)\u001b[0m\u001b[1;33m\u001b[0m\u001b[1;33m\u001b[0m\u001b[0m\n\u001b[0;32m      3\u001b[0m \u001b[1;32mfor\u001b[0m \u001b[0mi\u001b[0m\u001b[1;33m,\u001b[0m\u001b[0max\u001b[0m \u001b[1;32min\u001b[0m \u001b[0menumerate\u001b[0m\u001b[1;33m(\u001b[0m\u001b[0maxes\u001b[0m\u001b[1;33m.\u001b[0m\u001b[0mflatten\u001b[0m\u001b[1;33m(\u001b[0m\u001b[1;33m)\u001b[0m\u001b[1;33m)\u001b[0m\u001b[1;33m:\u001b[0m\u001b[1;33m\u001b[0m\u001b[1;33m\u001b[0m\u001b[0m\n\u001b[1;32m----> 4\u001b[1;33m     \u001b[0max\u001b[0m\u001b[1;33m.\u001b[0m\u001b[0mimshow\u001b[0m\u001b[1;33m(\u001b[0m\u001b[0mpredicted_activations\u001b[0m\u001b[1;33m[\u001b[0m\u001b[1;36m0\u001b[0m\u001b[1;33m,\u001b[0m\u001b[1;33m:\u001b[0m\u001b[1;33m,\u001b[0m\u001b[1;33m:\u001b[0m\u001b[1;33m,\u001b[0m\u001b[0mi\u001b[0m\u001b[1;33m]\u001b[0m\u001b[1;33m)\u001b[0m\u001b[1;33m;\u001b[0m\u001b[1;33m\u001b[0m\u001b[1;33m\u001b[0m\u001b[0m\n\u001b[0m\u001b[0;32m      5\u001b[0m     \u001b[0max\u001b[0m\u001b[1;33m.\u001b[0m\u001b[0mgrid\u001b[0m\u001b[1;33m(\u001b[0m\u001b[1;32mFalse\u001b[0m\u001b[1;33m)\u001b[0m\u001b[1;33m;\u001b[0m\u001b[1;33m\u001b[0m\u001b[1;33m\u001b[0m\u001b[0m\n\u001b[0;32m      6\u001b[0m     \u001b[0max\u001b[0m\u001b[1;33m.\u001b[0m\u001b[0maxis\u001b[0m\u001b[1;33m(\u001b[0m\u001b[1;34m'off'\u001b[0m\u001b[1;33m)\u001b[0m\u001b[1;33m;\u001b[0m\u001b[1;33m\u001b[0m\u001b[1;33m\u001b[0m\u001b[0m\n",
      "\u001b[1;31mIndexError\u001b[0m: index 2 is out of bounds for axis 3 with size 2"
     ]
    },
    {
     "data": {
      "image/png": "[encoded data removed]",
      "text/plain": [
       "<Figure size 1200x1200 with 4 Axes>"
      ]
     },
     "metadata": {},
     "output_type": "display_data"
    }
   ],
   "source": [
    "# Use your predictions to visualise the activations\n",
    "fig, axes = plt.subplots(nrows=4, ncols=4, figsize=(15,15), dpi=80)\n",
    "for i,ax in enumerate(axes.flatten()):\n",
    "    ax.imshow(predicted_activations[0,:,:,i]);\n",
    "    ax.grid(False);\n",
    "    ax.axis('off');"
   ]
  },
  {
   "cell_type": "code",
   "execution_count": 88,
   "metadata": {},
   "outputs": [],
   "source": [
    "# Create another model to visualize activations from ANOTHER convolutional layer\n",
    "new_model = Model(inputs=input_img, \n",
    "                  outputs=model_pooled.get_layer('c2').output)"
   ]
  },
  {
   "cell_type": "code",
   "execution_count": 89,
   "metadata": {},
   "outputs": [],
   "source": [
    "# You may rename this variable\n",
    "second_predicted_activations = new_model.predict(test_reshaped)"
   ]
  },
  {
   "cell_type": "code",
   "execution_count": 90,
   "metadata": {},
   "outputs": [
    {
     "data": {
      "image/png": "[encoded data removed]",
      "text/plain": [
       "<Figure size 1200x1200 with 16 Axes>"
      ]
     },
     "metadata": {},
     "output_type": "display_data"
    }
   ],
   "source": [
    "fig, axes = plt.subplots(nrows=4, ncols=4, figsize=(15,15), dpi=80)\n",
    "for i,ax in enumerate(axes.flatten()):\n",
    "    ax.imshow(second_predicted_activations[0,:,:,i]);\n",
    "    ax.grid(False);\n",
    "    ax.axis('off');"
   ]
  },
  {
   "cell_type": "markdown",
   "metadata": {},
   "source": [
    "Q) What features from your chosen image do you think your model has been able to learn? In terms of filters (weights), what goes on when we add more convolutional layers in our models?\n",
    "Ans. The model is able to learn the fuzzy background and then the darker parts of the picture. By adding more layer, or model could learn more complicated features."
   ]
  },
  {
   "cell_type": "markdown",
   "metadata": {
    "heading_collapsed": true
   },
   "source": [
    "### Task 6.1  Effect of learning rate\n",
    "Take the best selected model in __Task 5.1__ and change its learning rate to: \n",
    "- 6.1.1 any value between 5 and 1.\n",
    "- 6.1.2 learning rate = any value between 0.6 and  0.1 \n",
    "- 6.1.3 learning rate = 0.00001\n",
    "\n",
    "and train these three models to compare the effect learning rate."
   ]
  },
  {
   "cell_type": "code",
   "execution_count": 95,
   "metadata": {},
   "outputs": [],
   "source": [
    "epochs = 1 #to save time  \n",
    "lr_histories=[] #add all 4 models"
   ]
  },
  {
   "cell_type": "markdown",
   "metadata": {},
   "source": [
    "Best Model:"
   ]
  },
  {
   "cell_type": "code",
   "execution_count": 96,
   "metadata": {},
   "outputs": [
    {
     "name": "stdout",
     "output_type": "stream",
     "text": [
      "Model: \"model_14\"\n",
      "_________________________________________________________________\n",
      "Layer (type)                 Output Shape              Param #   \n",
      "=================================================================\n",
      "input_img (InputLayer)       (None, 32, 32, 3)         0         \n",
      "_________________________________________________________________\n",
      "c1 (Conv2D)                  (None, 30, 30, 2)         56        \n",
      "_________________________________________________________________\n",
      "max_pooling2d_13 (MaxPooling (None, 15, 15, 2)         0         \n",
      "_________________________________________________________________\n",
      "c2 (Conv2D)                  (None, 13, 13, 16)        304       \n",
      "_________________________________________________________________\n",
      "max_pooling2d_14 (MaxPooling (None, 6, 6, 16)          0         \n",
      "_________________________________________________________________\n",
      "flatten_10 (Flatten)         (None, 576)               0         \n",
      "_________________________________________________________________\n",
      "dense_19 (Dense)             (None, 20)                11540     \n",
      "_________________________________________________________________\n",
      "dense_20 (Dense)             (None, 10)                210       \n",
      "=================================================================\n",
      "Total params: 12,110\n",
      "Trainable params: 12,110\n",
      "Non-trainable params: 0\n",
      "_________________________________________________________________\n",
      "Epoch 1/1\n",
      "625/625 [==============================] - 148s 236ms/step - loss: 1.8400 - accuracy: 0.3322 - val_loss: 1.6840 - val_accuracy: 0.4089\n",
      "\n",
      "Epoch 00001: val_loss improved from inf to 1.68399, saving model to best_model/best_model-01-1.68.h5\n"
     ]
    }
   ],
   "source": [
    "model_name = 'best_model'\n",
    "model_names.append(model_name)\n",
    "if not os.path.exists('./'+model_name):\n",
    "    os.mkdir(model_name)\n",
    "    \n",
    "input_img = Input(shape=(32,32,3), name='input_img')\n",
    "layer= Conv2D(2, kernel_size=(3,3), activation='relu', name=\"c1\")(input_img)\n",
    "layer = MaxPooling2D(pool_size=(2, 2))(layer)\n",
    "# layer = Dropout(rate=0.25)(layer)\n",
    "layer = Conv2D(16, (3, 3), activation='tanh', name='c2')(layer)\n",
    "layer = MaxPooling2D(pool_size=(2, 2))(layer)\n",
    "# layer = Dropout(rate=0.3)(layer)\n",
    "# layer = Conv2D(16, (3, 3), activation='relu')(layer)\n",
    "# layer = MaxPooling2D(pool_size=(2, 2))(layer)\n",
    "# layer = Dropout(rate=0.2)(layer)\n",
    "\n",
    "layer = Flatten()(layer)\n",
    "layer= Dense(20, activation='tanh')(layer)\n",
    "# layer= Dense(64, activation='tanh')(layer)\n",
    "# layer = Dense(128, activation='relu')(layer)\n",
    "# layer = Dropout(rate=0.5)(layer)\n",
    "output_class = Dense(num_classes, activation='softmax')(layer)\n",
    "model_best = Model(inputs=input_img, outputs=output_class)\n",
    "    \n",
    "adam = Adam(lr=0.001)\n",
    "model_best.compile(loss=\"categorical_crossentropy\", \n",
    "              optimizer=adam, \n",
    "              metrics=['accuracy'])\n",
    "\n",
    "plot_model(model_best, model_name+'/'+model_name+'.png')\n",
    "model_best.summary()\n",
    "\n",
    "checkpoint = ModelCheckpoint(model_name+'/'+model_name+'-{epoch:02d}-{val_loss:.2f}.h5', \n",
    "                             monitor='val_loss', verbose=1, save_best_only=True, mode='auto')\n",
    "cvslogger = CSVLogger(model_name+'/logs.csv', separator=',', append=True)\n",
    "tensorboard = LRTensorBoard(log_dir='./'+model_name, histogram_freq=0, write_graph=True, write_grads=1, \n",
    "                            batch_size=batch_size, write_images=True)\n",
    "\n",
    "callbacks = [checkpoint, tensorboard, cvslogger]\n",
    "\n",
    "train_gen=data_generator(train_files, batch_size, \"preprocessing_norm\")\n",
    "test_gen=data_generator(test_files, batch_size, \"preprocessing_norm\")\n",
    "val_gen=data_generator(val_files,batch_size, \"preprocessing_norm\")\n",
    "\n",
    "hist_best =  model_best.fit_generator(train_gen, epochs=epochs,\n",
    "                           steps_per_epoch=len(train_files)//batch_size,\n",
    "                           validation_data=test_gen,\n",
    "                           callbacks=callbacks,\n",
    "                           verbose=1,\n",
    "                           validation_steps=len(test_files)//batch_size)\n",
    "lr_histories.append(hist_best)"
   ]
  },
  {
   "cell_type": "markdown",
   "metadata": {},
   "source": [
    "6.1.1:"
   ]
  },
  {
   "cell_type": "code",
   "execution_count": 97,
   "metadata": {
    "hidden": true
   },
   "outputs": [
    {
     "name": "stdout",
     "output_type": "stream",
     "text": [
      "Model: \"model_15\"\n",
      "_________________________________________________________________\n",
      "Layer (type)                 Output Shape              Param #   \n",
      "=================================================================\n",
      "input_img (InputLayer)       (None, 32, 32, 3)         0         \n",
      "_________________________________________________________________\n",
      "c1 (Conv2D)                  (None, 30, 30, 2)         56        \n",
      "_________________________________________________________________\n",
      "max_pooling2d_15 (MaxPooling (None, 15, 15, 2)         0         \n",
      "_________________________________________________________________\n",
      "c2 (Conv2D)                  (None, 13, 13, 16)        304       \n",
      "_________________________________________________________________\n",
      "max_pooling2d_16 (MaxPooling (None, 6, 6, 16)          0         \n",
      "_________________________________________________________________\n",
      "flatten_11 (Flatten)         (None, 576)               0         \n",
      "_________________________________________________________________\n",
      "dense_21 (Dense)             (None, 20)                11540     \n",
      "_________________________________________________________________\n",
      "dense_22 (Dense)             (None, 10)                210       \n",
      "=================================================================\n",
      "Total params: 12,110\n",
      "Trainable params: 12,110\n",
      "Non-trainable params: 0\n",
      "_________________________________________________________________\n",
      "Epoch 1/1\n",
      "625/625 [==============================] - 135s 216ms/step - loss: 14.4752 - accuracy: 0.0998 - val_loss: 13.8515 - val_accuracy: 0.0999\n",
      "\n",
      "Epoch 00001: val_loss improved from inf to 13.85149, saving model to model_6.1.1/model_6.1.1-01-13.85.h5\n"
     ]
    }
   ],
   "source": [
    "# Use code provided in previous tasks\n",
    "model_name = 'model_6.1.1'\n",
    "model_names.append(model_name)\n",
    "if not os.path.exists('./'+model_name):\n",
    "    os.mkdir(model_name)\n",
    "    \n",
    "input_img = Input(shape=(32,32,3), name='input_img')\n",
    "layer= Conv2D(2, kernel_size=(3,3), activation='relu', name=\"c1\")(input_img)\n",
    "layer = MaxPooling2D(pool_size=(2, 2))(layer)\n",
    "# layer = Dropout(rate=0.25)(layer)\n",
    "layer = Conv2D(16, (3, 3), activation='tanh', name='c2')(layer)\n",
    "layer = MaxPooling2D(pool_size=(2, 2))(layer)\n",
    "# layer = Dropout(rate=0.3)(layer)\n",
    "# layer = Conv2D(16, (3, 3), activation='relu')(layer)\n",
    "# layer = MaxPooling2D(pool_size=(2, 2))(layer)\n",
    "# layer = Dropout(rate=0.2)(layer)\n",
    "\n",
    "layer = Flatten()(layer)\n",
    "layer= Dense(20, activation='tanh')(layer)\n",
    "# layer= Dense(64, activation='tanh')(layer)\n",
    "# layer = Dense(128, activation='relu')(layer)\n",
    "# layer = Dropout(rate=0.5)(layer)\n",
    "output_class = Dense(num_classes, activation='softmax')(layer)\n",
    "model_1 = Model(inputs=input_img, outputs=output_class)\n",
    "    \n",
    "adam = Adam(lr=2)\n",
    "model_1.compile(loss=\"categorical_crossentropy\", \n",
    "              optimizer=adam, \n",
    "              metrics=['accuracy'])\n",
    "\n",
    "plot_model(model_1, model_name+'/'+model_name+'.png')\n",
    "model_1.summary()\n",
    "\n",
    "checkpoint = ModelCheckpoint(model_name+'/'+model_name+'-{epoch:02d}-{val_loss:.2f}.h5', \n",
    "                             monitor='val_loss', verbose=1, save_best_only=True, mode='auto')\n",
    "cvslogger = CSVLogger(model_name+'/logs.csv', separator=',', append=True)\n",
    "tensorboard = LRTensorBoard(log_dir='./'+model_name, histogram_freq=0, write_graph=True, write_grads=1, \n",
    "                            batch_size=batch_size, write_images=True)\n",
    "\n",
    "callbacks = [checkpoint, tensorboard, cvslogger]\n",
    "\n",
    "train_gen=data_generator(train_files, batch_size, \"preprocessing_norm\")\n",
    "test_gen=data_generator(test_files, batch_size, \"preprocessing_norm\")\n",
    "val_gen=data_generator(val_files,batch_size, \"preprocessing_norm\")\n",
    "\n",
    "hist_1 =  model_1.fit_generator(train_gen, epochs=epochs,\n",
    "                           steps_per_epoch=len(train_files)//batch_size,\n",
    "                           validation_data=test_gen,\n",
    "                           callbacks=callbacks,\n",
    "                           verbose=1,\n",
    "                           validation_steps=len(test_files)//batch_size)\n",
    "lr_histories.append(hist_1)\n",
    "\n"
   ]
  },
  {
   "cell_type": "markdown",
   "metadata": {},
   "source": [
    "6.1.2:"
   ]
  },
  {
   "cell_type": "code",
   "execution_count": 98,
   "metadata": {},
   "outputs": [
    {
     "name": "stdout",
     "output_type": "stream",
     "text": [
      "Model: \"model_16\"\n",
      "_________________________________________________________________\n",
      "Layer (type)                 Output Shape              Param #   \n",
      "=================================================================\n",
      "input_img (InputLayer)       (None, 32, 32, 3)         0         \n",
      "_________________________________________________________________\n",
      "c1 (Conv2D)                  (None, 30, 30, 2)         56        \n",
      "_________________________________________________________________\n",
      "max_pooling2d_17 (MaxPooling (None, 15, 15, 2)         0         \n",
      "_________________________________________________________________\n",
      "c2 (Conv2D)                  (None, 13, 13, 16)        304       \n",
      "_________________________________________________________________\n",
      "max_pooling2d_18 (MaxPooling (None, 6, 6, 16)          0         \n",
      "_________________________________________________________________\n",
      "flatten_12 (Flatten)         (None, 576)               0         \n",
      "_________________________________________________________________\n",
      "dense_23 (Dense)             (None, 20)                11540     \n",
      "_________________________________________________________________\n",
      "dense_24 (Dense)             (None, 10)                210       \n",
      "=================================================================\n",
      "Total params: 12,110\n",
      "Trainable params: 12,110\n",
      "Non-trainable params: 0\n",
      "_________________________________________________________________\n",
      "Epoch 1/1\n",
      "625/625 [==============================] - 136s 217ms/step - loss: 2.5487 - accuracy: 0.0978 - val_loss: 2.5468 - val_accuracy: 0.0998\n",
      "\n",
      "Epoch 00001: val_loss improved from inf to 2.54682, saving model to model_6.1.2/model_6.1.2-01-2.55.h5\n"
     ]
    }
   ],
   "source": [
    "model_name = 'model_6.1.2'\n",
    "model_names.append(model_name)\n",
    "if not os.path.exists('./'+model_name):\n",
    "    os.mkdir(model_name)\n",
    "\n",
    "input_img = Input(shape=(32,32,3), name='input_img')\n",
    "layer= Conv2D(2, kernel_size=(3,3), activation='relu', name=\"c1\")(input_img)\n",
    "layer = MaxPooling2D(pool_size=(2, 2))(layer)\n",
    "# layer = Dropout(rate=0.25)(layer)\n",
    "layer = Conv2D(16, (3, 3), activation='tanh', name='c2')(layer)\n",
    "layer = MaxPooling2D(pool_size=(2, 2))(layer)\n",
    "# layer = Dropout(rate=0.3)(layer)\n",
    "# layer = Conv2D(16, (3, 3), activation='relu')(layer)\n",
    "# layer = MaxPooling2D(pool_size=(2, 2))(layer)\n",
    "# layer = Dropout(rate=0.2)(layer)\n",
    "\n",
    "layer = Flatten()(layer)\n",
    "layer= Dense(20, activation='tanh')(layer)\n",
    "# layer= Dense(64, activation='tanh')(layer)\n",
    "# layer = Dense(128, activation='relu')(layer)\n",
    "# layer = Dropout(rate=0.5)(layer)\n",
    "output_class = Dense(num_classes, activation='softmax')(layer)\n",
    "model_2 = Model(inputs=input_img, outputs=output_class)\n",
    "    \n",
    "adam = Adam(lr=0.2)\n",
    "model_2.compile(loss=\"categorical_crossentropy\", \n",
    "              optimizer=adam, \n",
    "              metrics=['accuracy'])\n",
    "\n",
    "plot_model(model_2, model_name+'/'+model_name+'.png')\n",
    "model_2.summary()\n",
    "\n",
    "checkpoint = ModelCheckpoint(model_name+'/'+model_name+'-{epoch:02d}-{val_loss:.2f}.h5', \n",
    "                             monitor='val_loss', verbose=1, save_best_only=True, mode='auto')\n",
    "cvslogger = CSVLogger(model_name+'/logs.csv', separator=',', append=True)\n",
    "tensorboard = LRTensorBoard(log_dir='./'+model_name, histogram_freq=0, write_graph=True, write_grads=1, \n",
    "                            batch_size=batch_size, write_images=True)\n",
    "\n",
    "callbacks = [checkpoint, tensorboard, cvslogger]\n",
    "\n",
    "train_gen=data_generator(train_files, batch_size, \"preprocessing_norm\")\n",
    "test_gen=data_generator(test_files, batch_size, \"preprocessing_norm\")\n",
    "val_gen=data_generator(val_files,batch_size, \"preprocessing_norm\")\n",
    "\n",
    "hist_2 =  model_2.fit_generator(train_gen, epochs=epochs,\n",
    "                           steps_per_epoch=len(train_files)//batch_size,\n",
    "                           validation_data=test_gen,\n",
    "                           callbacks=callbacks,\n",
    "                           verbose=1,\n",
    "                           validation_steps=len(test_files)//batch_size)\n",
    "lr_histories.append(hist_2)"
   ]
  },
  {
   "cell_type": "markdown",
   "metadata": {},
   "source": [
    "6.1.3:"
   ]
  },
  {
   "cell_type": "code",
   "execution_count": 99,
   "metadata": {},
   "outputs": [
    {
     "name": "stdout",
     "output_type": "stream",
     "text": [
      "Model: \"model_17\"\n",
      "_________________________________________________________________\n",
      "Layer (type)                 Output Shape              Param #   \n",
      "=================================================================\n",
      "input_img (InputLayer)       (None, 32, 32, 3)         0         \n",
      "_________________________________________________________________\n",
      "c1 (Conv2D)                  (None, 30, 30, 2)         56        \n",
      "_________________________________________________________________\n",
      "max_pooling2d_19 (MaxPooling (None, 15, 15, 2)         0         \n",
      "_________________________________________________________________\n",
      "c2 (Conv2D)                  (None, 13, 13, 16)        304       \n",
      "_________________________________________________________________\n",
      "max_pooling2d_20 (MaxPooling (None, 6, 6, 16)          0         \n",
      "_________________________________________________________________\n",
      "flatten_13 (Flatten)         (None, 576)               0         \n",
      "_________________________________________________________________\n",
      "dense_25 (Dense)             (None, 20)                11540     \n",
      "_________________________________________________________________\n",
      "dense_26 (Dense)             (None, 10)                210       \n",
      "=================================================================\n",
      "Total params: 12,110\n",
      "Trainable params: 12,110\n",
      "Non-trainable params: 0\n",
      "_________________________________________________________________\n",
      "Epoch 1/1\n",
      "625/625 [==============================] - 155s 248ms/step - loss: 2.3366 - accuracy: 0.1249 - val_loss: 2.2932 - val_accuracy: 0.1228\n",
      "\n",
      "Epoch 00001: val_loss improved from inf to 2.29321, saving model to model_6.1.3/model_6.1.3-01-2.29.h5\n"
     ]
    }
   ],
   "source": [
    "model_name = 'model_6.1.3'\n",
    "model_names.append(model_name)\n",
    "if not os.path.exists('./'+model_name):\n",
    "    os.mkdir(model_name)\n",
    "\n",
    "input_img = Input(shape=(32,32,3), name='input_img')\n",
    "layer= Conv2D(2, kernel_size=(3,3), activation='relu', name=\"c1\")(input_img)\n",
    "layer = MaxPooling2D(pool_size=(2, 2))(layer)\n",
    "# layer = Dropout(rate=0.25)(layer)\n",
    "layer = Conv2D(16, (3, 3), activation='tanh', name='c2')(layer)\n",
    "layer = MaxPooling2D(pool_size=(2, 2))(layer)\n",
    "# layer = Dropout(rate=0.3)(layer)\n",
    "# layer = Conv2D(16, (3, 3), activation='relu')(layer)\n",
    "# layer = MaxPooling2D(pool_size=(2, 2))(layer)\n",
    "# layer = Dropout(rate=0.2)(layer)\n",
    "\n",
    "layer = Flatten()(layer)\n",
    "layer= Dense(20, activation='tanh')(layer)\n",
    "# layer= Dense(64, activation='tanh')(layer)\n",
    "# layer = Dense(128, activation='relu')(layer)\n",
    "# layer = Dropout(rate=0.5)(layer)\n",
    "output_class = Dense(num_classes, activation='softmax')(layer)\n",
    "model_3 = Model(inputs=input_img, outputs=output_class)\n",
    "\n",
    "adam = Adam(lr=0.00001)\n",
    "model_3.compile(loss=\"categorical_crossentropy\", \n",
    "              optimizer=adam, \n",
    "              metrics=['accuracy'])\n",
    "\n",
    "plot_model(model_3, model_name+'/'+model_name+'.png')\n",
    "model_3.summary()\n",
    "\n",
    "checkpoint = ModelCheckpoint(model_name+'/'+model_name+'-{epoch:02d}-{val_loss:.2f}.h5', \n",
    "                             monitor='val_loss', verbose=1, save_best_only=True, mode='auto')\n",
    "cvslogger = CSVLogger(model_name+'/logs.csv', separator=',', append=True)\n",
    "tensorboard = LRTensorBoard(log_dir='./'+model_name, histogram_freq=0, write_graph=True, write_grads=1, \n",
    "                            batch_size=batch_size, write_images=True)\n",
    "\n",
    "callbacks = [checkpoint, tensorboard, cvslogger]\n",
    "\n",
    "train_gen=data_generator(train_files, batch_size, \"preprocessing_norm\")\n",
    "test_gen=data_generator(test_files, batch_size, \"preprocessing_norm\")\n",
    "val_gen=data_generator(val_files,batch_size, \"preprocessing_norm\")\n",
    "\n",
    "hist_3 =  model_3.fit_generator(train_gen, epochs=epochs,\n",
    "                           steps_per_epoch=len(train_files)//batch_size,\n",
    "                           validation_data=test_gen,\n",
    "                           callbacks=callbacks,\n",
    "                           verbose=1,\n",
    "                           validation_steps=len(test_files)//batch_size)\n",
    "lr_histories.append(hist_3)"
   ]
  },
  {
   "cell_type": "markdown",
   "metadata": {},
   "source": [
    "### Task 6.2 Plot loss and accuracy\n",
    "Plot the loss and accracy for best model selected in task 5.1, and model trained in 6.1.1, 6.1.2 and 6.1.3 task. Give the detailed analysis of the effect of learning rate in your words and select the best learning rate for this problem."
   ]
  },
  {
   "cell_type": "code",
   "execution_count": 100,
   "metadata": {},
   "outputs": [
    {
     "data": {
      "image/png": "[encoded data removed]",
      "text/plain": [
       "<Figure size 576x396 with 1 Axes>"
      ]
     },
     "metadata": {},
     "output_type": "display_data"
    },
    {
     "data": {
      "image/png": "[encoded data removed]",
      "text/plain": [
       "<Figure size 576x396 with 1 Axes>"
      ]
     },
     "metadata": {},
     "output_type": "display_data"
    },
    {
     "data": {
      "image/png": "[encoded data removed]",
      "text/plain": [
       "<Figure size 576x396 with 1 Axes>"
      ]
     },
     "metadata": {},
     "output_type": "display_data"
    },
    {
     "data": {
      "image/png": "[encoded data removed]",
      "text/plain": [
       "<Figure size 576x396 with 1 Axes>"
      ]
     },
     "metadata": {},
     "output_type": "display_data"
    }
   ],
   "source": [
    "# Use plotHistory to make these plots\n",
    "plotHistory(lr_histories, model_names, \"loss\")\n",
    "plotHistory(lr_histories, model_names, \"accuracy\")\n",
    "plotHistory(lr_histories, model_names, \"val_loss\")\n",
    "plotHistory(lr_histories, model_names, \"val_accuracy\")"
   ]
  },
  {
   "cell_type": "markdown",
   "metadata": {},
   "source": [
    "Analysis: The results above show that a learning rate of 0.001 has the least loss and most accuracy because it is not too big like 2 to cause potential overshooting and isn't very small as to slow down gradient descent to low levels."
   ]
  }
 ],
 "metadata": {
  "kernelspec": {
   "display_name": "Python 3",
   "language": "python",
   "name": "python3"
  },
  "language_info": {
   "codemirror_mode": {
    "name": "ipython",
    "version": 3
   },
   "file_extension": ".py",
   "mimetype": "text/x-python",
   "name": "python",
   "nbconvert_exporter": "python",
   "pygments_lexer": "ipython3",
   "version": "3.7.1"
  },
  "toc": {
   "base_numbering": 1,
   "nav_menu": {},
   "number_sections": true,
   "sideBar": true,
   "skip_h1_title": false,
   "title_cell": "Table of Contents",
   "title_sidebar": "Contents",
   "toc_cell": false,
   "toc_position": {},
   "toc_section_display": true,
   "toc_window_display": false
  },
  "widgets": {
   "application/vnd.jupyter.widget-state+json": {
    "state": {},
    "version_major": 2,
    "version_minor": 0
   }
  }
 },
 "nbformat": 4,
 "nbformat_minor": 2
}
